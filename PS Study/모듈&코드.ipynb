{
 "cells": [
  {
   "cell_type": "markdown",
   "metadata": {},
   "source": [
    "# 알고리즘\n",
    "---"
   ]
  },
  {
   "cell_type": "code",
   "execution_count": null,
   "metadata": {},
   "outputs": [],
   "source": [
    "import math\n",
    "import itertools  # 반복(iteration) 관련 유틸리티\n",
    "import collections  # 고급 자료구조\n",
    "import re  # 정규 표현식(Regular Expression)"
   ]
  },
  {
   "cell_type": "code",
   "execution_count": null,
   "metadata": {},
   "outputs": [],
   "source": [
    "# 범위를 초과하는 인덱스 호출로 배열 반복호출\n",
    "# 0~9의 정수 리스트 생성\n",
    "lst = [i for i in range(10)]\n",
    "for i in range(20): # 0부터 19 까지의 lst인덱스 호출\n",
    "    print(lst[i % len(lst)]) # 인덱스 에러는 방지하지만 다시 처음부터 순회"
   ]
  },
  {
   "cell_type": "code",
   "execution_count": null,
   "metadata": {},
   "outputs": [
    {
     "data": {
      "text/plain": [
       "120"
      ]
     },
     "execution_count": 2,
     "metadata": {},
     "output_type": "execute_result"
    }
   ],
   "source": [
    "import math\n",
    "from functools import reduce\n",
    "reduce(math.gcd, [2, 4, 6, 8, 10]) # 2\n",
    "reduce(math.lcm, [2, 4, 6, 8, 10]) # 120"
   ]
  },
  {
   "cell_type": "code",
   "execution_count": null,
   "metadata": {},
   "outputs": [],
   "source": [
    "import itertools\n",
    "\n",
    "itertools.combinations([1, 2, 3, 4], 2) # 4개의 원소 중 2개를 뽑는 조합\n",
    "itertools.permutations([1, 2, 3, 4], 2) # 4개의 원소 중 2개를 뽑는 순열\n",
    "itertools.product([1, 2, 3, 4], repeat=2) # 4개의 원소 중 중복을 허용하여 2개를 뽑는 순열\n",
    "itertools.combinations_with_replacement([1, 2, 3, 4], 2) # 4개의 원소 중 중복을 허용하여 2개를 뽑는 조합\n",
    "itertools.accumulate([1, 2, 3, 4]) # 누적합\n",
    "itertools.accumulate([1, 2, 3, 4], math.gcd) # 누적 최대공약수\n",
    "itertools.chain([1, 2, 3], [4, 5, 6]) # 두 리스트를 연결\n",
    "itertools.chain.from_iterable([[1, 2, 3], [4, 5, 6]]) # 두 리스트를 연결\n",
    "itertools.cycle([1, 2, 3]) # 무한 반복\n",
    "itertools.dropwhile(lambda x: x < 5, [1, 4, 6, 4, 1]) # 조건이 거짓이 되는 순간부터 반환\n",
    "itertools.takewhile(lambda x: x < 5, [1, 4, 6, 4, 1]) # 조건이 거짓이 되기 전까지 반환\n",
    "itertools.filterfalse(lambda x: x < 5, [1, 4, 6, 4, 1]) # 조건이 거짓인 것만 반환\n",
    "itertools.islice([1, 2, 3, 4, 5], 1, 3) # 슬라이싱\n",
    "itertools.starmap(pow, [(2, 5), (3, 2), (10, 3)]) # pow(2, 5), pow(3, 2), pow(10, 3)\n",
    "itertools.zip_longest([1, 2, 3], [4, 5, 6], fillvalue=0) # 길이가 다른 리스트를 zip, fillvalue로 채움\n",
    "itertools.count(start=0, step=1) # 무한 등차수열\n",
    "itertools.cycle([1, 2, 3]) # 무한 반복\n",
    "itertools.repeat(10, 3) # 10을 3번 반복\n",
    "itertools.tee([1, 2, 3], 2) # 복사본 생성\n",
    "itertools.groupby([1, 1, 2, 3, 3, 3, 4, 5], lambda x: x) # 동일한 것 끼리 그룹화\n",
    "itertools.tee([1, 2, 3], 2) # 복사본 생성\n",
    "itertools.zip_longest([1, 2, 3], [4, 5, 6], fillvalue=0) # 길이가 다른 리스트를 zip, fillvalue로 채움\n",
    "itertools.count(start=0, step=1) # 무한 등차수열"
   ]
  },
  {
   "cell_type": "code",
   "execution_count": null,
   "metadata": {},
   "outputs": [
    {
     "name": "stdout",
     "output_type": "stream",
     "text": [
      "[(1, 2), (1, 3), (1, 4), (2, 3), (2, 4), (3, 4)]\n",
      "10\n",
      "[1, 2]\n",
      "[1, 3]\n",
      "[1, 4]\n",
      "[2, 3]\n",
      "[2, 4]\n",
      "[3, 4]\n",
      "None\n"
     ]
    }
   ],
   "source": [
    "# 조합\n",
    "from itertools import combinations\n",
    "import math\n",
    "# 현명한 방법\n",
    "data = [1, 2, 3, 4]\n",
    "print(list(combinations(data, 2)))\n",
    "print(math.comb(5,2))\n",
    "# 연습용 구현 성능이 떨어진다\n",
    "def combinations(arr, r, start=0, path=[]):\n",
    "    if len(path) == r:\n",
    "        print(path)\n",
    "        return\n",
    "\n",
    "    for i in range(start, len(arr)):\n",
    "        combinations(arr, r, i + 1, path + [arr[i]])\n",
    "\n",
    "print(combinations(data, 2))\n",
    "# 비트마스크로 구현 O(2^n) n이 커질수록 성능 하락\n",
    "def bitmask_combinations(arr, r):\n",
    "    n = len(arr)\n",
    "    result = []\n",
    "    \n",
    "    for mask in range(1 << n):  # 2^n개의 부분집합\n",
    "        if bin(mask).count('1') == r:  # 1의 개수가 r개인 경우만 선택\n",
    "            subset = [arr[i] for i in range(n) if mask & (1 << i)]\n",
    "            result.append(subset)\n",
    "    \n",
    "    return result\n",
    "\n",
    "data = [1, 2, 3, 4]\n",
    "print(bitmask_combinations(data, 2))"
   ]
  },
  {
   "cell_type": "code",
   "execution_count": null,
   "metadata": {},
   "outputs": [],
   "source": [
    "# 유클리드 호제법 반복문\n",
    "def Euclidean(a, b):\n",
    "    while b != 0:\n",
    "        [a, b] = [b, a%b]\n",
    "    return a\n",
    "# 유클리드 호제법 재귀문\n",
    "def Euclidean(a, b):\n",
    "    if b == 0:\n",
    "        return a\n",
    "    return Euclidean(b, a % b)"
   ]
  },
  {
   "cell_type": "code",
   "execution_count": null,
   "metadata": {},
   "outputs": [],
   "source": [
    "# n개의 수의 최대공약수\n",
    "from functools import reduce\n",
    "\n",
    "def gcd(a, b):\n",
    "    while b:\n",
    "        a, b = b, a % b\n",
    "    return a\n",
    "\n",
    "def gcd_of_list(numbers):\n",
    "    return reduce(gcd, numbers)\n",
    "\n",
    "numbers = [24, 36, 48]\n",
    "print(gcd_of_list(numbers))  # Output: 12\n",
    "\n",
    "# math 모듈사용\n",
    "import math\n",
    "\n",
    "# greatest common divisor\n",
    "print(math.gcd(24, 36))  # Output: 12\n",
    "\n",
    "# least common multiple\n",
    "def lcm(a, b):\n",
    "    return abs(a*b) // math.gcd(a, b)\n",
    "\n",
    "def lcm_of_list(numbers):\n",
    "    return reduce(lcm, numbers)\n",
    "\n",
    "print(lcm_of_list(numbers))  # Output: 144"
   ]
  },
  {
   "cell_type": "code",
   "execution_count": 1,
   "metadata": {},
   "outputs": [
    {
     "data": {
      "text/plain": [
       "72"
      ]
     },
     "execution_count": 1,
     "metadata": {},
     "output_type": "execute_result"
    }
   ],
   "source": [
    "import math\n",
    "math.lcm(24, 36)  # Output: 72\n",
    "math.gcd(24, 36)  # Output: 12"
   ]
  },
  {
   "cell_type": "code",
   "execution_count": 9,
   "metadata": {},
   "outputs": [
    {
     "name": "stdout",
     "output_type": "stream",
     "text": [
      "120\n"
     ]
    }
   ],
   "source": [
    "# 기초적인 재귀함수 팩토리얼 계산\n",
    "def factorial(n):\n",
    "    if n <= 1:\n",
    "        return 1\n",
    "    else:\n",
    "        return n * factorial(n - 1)\n",
    "print(factorial(5))"
   ]
  },
  {
   "cell_type": "code",
   "execution_count": 39,
   "metadata": {},
   "outputs": [
    {
     "name": "stdout",
     "output_type": "stream",
     "text": [
      "2\n",
      "3\n",
      "5\n",
      "7\n",
      "11\n",
      "13\n"
     ]
    }
   ],
   "source": [
    "# 에라토스테네스의 체\n",
    "import collections as cl\n",
    "\n",
    "M,N= map(int, input().split())\n",
    "if M<=2<=N:print(2)\n",
    "\n",
    "decimal = cl.defaultdict(bool)\n",
    "decimal[0]=decimal[1]=True\n",
    "\n",
    "for i in range(3, N+1, 2):\n",
    "    if not decimal[i]:\n",
    "        if M<= i <= N:\n",
    "            print(i)\n",
    "        for j in range(i+i*2, N+1, i*2):\n",
    "                decimal[j]=True"
   ]
  },
  {
   "cell_type": "markdown",
   "metadata": {},
   "source": [
    "## 하이브리드 정렬"
   ]
  },
  {
   "cell_type": "code",
   "execution_count": null,
   "metadata": {},
   "outputs": [],
   "source": [
    "# 팀 병합정렬 + 삽입정렬\n",
    "def tim_sort(lst, cmp = lambda x, y: x if x > y else y):\n",
    "\n",
    "    return lst"
   ]
  },
  {
   "cell_type": "code",
   "execution_count": null,
   "metadata": {},
   "outputs": [],
   "source": [
    "#linked list\n",
    "class Node:\n",
    "  def __init__(self,data):\n",
    "    self.data = data\n",
    "    self.next = None\n",
    "\n",
    "class LinkedList:\n",
    "  def __init__(self):"
   ]
  },
  {
   "cell_type": "code",
   "execution_count": 6,
   "metadata": {},
   "outputs": [
    {
     "data": {
      "text/plain": [
       "False"
      ]
     },
     "execution_count": 6,
     "metadata": {},
     "output_type": "execute_result"
    }
   ],
   "source": [
    "a=[1,2,3,4,5]\n",
    "isinstance(2,list)"
   ]
  }
 ],
 "metadata": {
  "kernelspec": {
   "display_name": "Python 3",
   "language": "python",
   "name": "python3"
  },
  "language_info": {
   "codemirror_mode": {
    "name": "ipython",
    "version": 3
   },
   "file_extension": ".py",
   "mimetype": "text/x-python",
   "name": "python",
   "nbconvert_exporter": "python",
   "pygments_lexer": "ipython3",
   "version": "3.11.8"
  }
 },
 "nbformat": 4,
 "nbformat_minor": 2
}
