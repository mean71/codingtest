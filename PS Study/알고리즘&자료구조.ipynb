{
 "cells": [
  {
   "cell_type": "markdown",
   "metadata": {},
   "source": [
    "# 메모"
   ]
  },
  {
   "cell_type": "markdown",
   "metadata": {},
   "source": [
    "백트래킹  \n",
    "메모이제이션\n",
    "   * 리스트, 튜플, 딕셔너리 활용\n",
    "   * 스택, 큐, 연결 리스트\n",
    "   * 정렬 알고리즘 (버블 정렬, 선택 정렬, 삽입 정렬)\n",
    "   * 탐색 알고리즘 (선형 탐색, 이진 탐색)\n",
    "   * 재귀 알고리즘\n",
    "\n",
    " 1. **해시 테이블 (Hash Table)**\n",
    "    - 정의: 키와 값을 매핑하는 데이터 구조. 해시 함수를 사용하여 키를 해시값으로 변환하고, 이 해시값을 사용해 값을 저장하거나 검색합니다.\n",
    "    - 사용 사례: 효율적인 검색, 삽입, 삭제가 필요할 때.\n",
    "    - 예시: 딕셔너리로 구현된 해시 테이블.  "
   ]
  },
  {
   "cell_type": "code",
   "execution_count": null,
   "metadata": {},
   "outputs": [],
   "source": [
    "# - 해시 테이블 예시 (딕셔너리 사용)\n",
    "hash_table = {}\n",
    "hash_table[\"name\"] = \"Alice\"\n",
    "hash_table[\"age\"] = 30\n",
    "hash_table[\"city\"] = \"Seoul\"\n",
    "\n",
    "print(\"Hash Table:\", hash_table)\n",
    "print(\"Access by key 'name':\", hash_table[\"name\"])\n",
    "# - BFS(너비 우선 탐색) 구현\n",
    "def bfs(graph, start):\n",
    "    visited = set()\n",
    "    queue = [start]\n",
    "    \n",
    "    while queue:\n",
    "        vertex = queue.pop(0)\n",
    "        if vertex not in visited:\n",
    "            print(vertex, end=\" \")\n",
    "            visited.add(vertex)\n",
    "            queue.extend(set(graph[vertex]) - visited)\n",
    "\n",
    "print(\"BFS Traversal starting from 'A':\")\n",
    "bfs(graph, \"A\")"
   ]
  },
  {
   "cell_type": "markdown",
   "metadata": {},
   "source": [
    "---\n",
    "# 알고리즘(Algorithms)\n",
    "---"
   ]
  },
  {
   "cell_type": "markdown",
   "metadata": {},
   "source": [
    "특정문제를 해결하기 위한 명확하고 구체적인 단계의 집합.  \n",
    "컴퓨터과학에서의 알고리즘은 입력을 받아 원하는 결과를 출력하는 과정을 의미  \n",
    "효율적인 알고리즘은 실행시간과 자원사용을 최소화  \n",
    "- 표현방법 \n",
    "  - 의사코드\n",
    "  - 순서도\n",
    "  - 코드\n",
    "- 시간복잡도(Time Complexity)\n",
    "  - 시간복잡도(Big-O 표기법)(Big O notation)로 표기\n",
    "  - 입력자료크기 n과 시간복잡도O(n)이 대략 n비례 횟수의 연산 수행\n",
    "  - 검색알고리즘 O(n) , O(log n)선호(해시테이블,..)\n",
    "  - 정렬알고리즘 O(n log n) 선호(퀵,정렬,..)\n",
    "  - log n < n << n log n << n^2 << n^3 << n^4 <<<<<< 2^n <<<<<< n! \n",
    "  - 보통 자료를 읽는데 n의 시간이 필요하여 O(n)정도나 O(n log n) 등 log n의 지수승이 붙는정도로 막으면 매우 바람직한 결과 n^3정도만 되어도 급격히 느려짐\n",
    "- 공간복잡도(Space complexity)\n",
    "  - 아직 몰라도 된다는 듯하다.\n",
    "\n",
    "https://wiki.python.org/moin/TimeComplexity - 공식문서 메서드 시간복잡도\n",
    "https://namu.wiki/w/%EC%95%8C%EA%B3%A0%EB%A6%AC%EC%A6%98#s-5 알고리즘 나무위키  "
   ]
  },
  {
   "cell_type": "markdown",
   "metadata": {},
   "source": [
    "---\n",
    "# 파이썬 메서드의 시간복잡도 정리\n",
    "---"
   ]
  },
  {
   "cell_type": "markdown",
   "metadata": {},
   "source": [
    "https://wiki.python.org/moin/TimeComplexity - 공식문서 메서드 시간복잡도"
   ]
  },
  {
   "cell_type": "code",
   "execution_count": null,
   "metadata": {},
   "outputs": [],
   "source": [
    "'''\n",
    "\t\t\tComplexity of Python Operations\n",
    "\n",
    "Lists:\n",
    "                               Complexity\n",
    "Operation     | Example      | Class         | Notes\n",
    "--------------+--------------+---------------+-------------------------------\n",
    "Index         | l[i]         | O(1)\t     |\n",
    "Store         | l[i] = 0     | O(1)\t     |\n",
    "Length        | len(l)       | O(1)\t     |\n",
    "Append        | l.append(5)  | O(1)\t     | mostly: ICS-46 covers details\n",
    "Pop\t          | l.pop()      | O(1)\t     | same as l.pop(-1), popping at end\n",
    "Clear         | l.clear()    | O(1)\t     | similar to l = []\n",
    "\n",
    "Slice         | l[a:b]       | O(b-a)\t     | l[1:5]:O(l)/l[:]:O(len(l)-0)=O(N)\n",
    "Extend        | l.extend(...)| O(len(...))   | depends only on len of extension\n",
    "Construction  | list(...)    | O(len(...))   | depends on length of ... iterable\n",
    "\n",
    "check ==, !=  | l1 == l2     | O(N)      |\n",
    "Insert        | l[a:b] = ... | O(N)\t     |\n",
    "Delete        | del l[i]     | O(N)\t     | depends on i; O(N) in worst case\n",
    "Containment   | x in/not in l| O(N)\t     | linearly searches list\n",
    "Copy          | l.copy()     | O(N)\t     | Same as l[:] which is O(N)\n",
    "Remove        | l.remove(...)| O(N)\t     |\n",
    "Pop\t          | l.pop(i)     | O(N)\t     | O(N-i): l.pop(0):O(N) (see above)\n",
    "Extreme value | min(l)/max(l)| O(N)\t     | linearly searches list for value\n",
    "Reverse\t      | l.reverse()  | O(N)\t     |\n",
    "Iteration     | for v in l:  | O(N)      | Worst: no return/break in loop\n",
    "\n",
    "Sort          | l.sort()     | O(N Log N)    | key/reverse mostly doesn't change\n",
    "Multiply      | k*l          | O(k N)        | 5*l is O(N): len(l)*l is O(N**2)\n",
    "\n",
    "Tuples support all operations that do not mutate the data structure (and they\n",
    "have the same complexity classes).\n",
    "\n",
    "\n",
    "Sets:\n",
    "                               Complexity\n",
    "Operation     | Example      | Class         | Notes\n",
    "--------------+--------------+---------------+-------------------------------\n",
    "Length        | len(s)       | O(1)\t     |\n",
    "Add           | s.add(5)     | O(1)\t     |\n",
    "Containment   | x in/not in s| O(1)\t     | compare to list/tuple - O(N)\n",
    "Remove        | s.remove(..) | O(1)\t     | compare to list/tuple - O(N)\n",
    "Discard       | s.discard(..)| O(1)\t     |\n",
    "Pop           | s.pop()      | O(1)\t     | popped value \"randomly\" selected\n",
    "Clear         | s.clear()    | O(1)\t     | similar to s = set()\n",
    "\n",
    "Construction  | set(...)     | O(len(...))   | depends on length of ... iterable\n",
    "check ==, !=  | s != t       | O(len(s))     | same as len(t); False in O(1) if\n",
    "      \t      \t     \t       \t\t       the lengths are different\n",
    "<=/<          | s <= t       | O(len(s))     | issubset\n",
    ">=/>          | s >= t       | O(len(t))     | issuperset s <= t == t >= s\n",
    "Union         | s | t        | O(len(s)+len(t))\n",
    "Intersection  | s & t        | O(len(s)+len(t))\n",
    "Difference    | s - t        | O(len(s)+len(t))\n",
    "Symmetric Diff| s ^ t        | O(len(s)+len(t))\n",
    "\n",
    "Iteration     | for v in s:  | O(N)          | Worst: no return/break in loop\n",
    "Copy          | s.copy()     | O(N)\t     |\n",
    "\n",
    "Sets have many more operations that are O(1) compared with lists and tuples.\n",
    "Not needing to keep values in a specific order in a set (while lists/tuples\n",
    "require an order) allows for faster implementations of some set operations.\n",
    "\n",
    "Frozen sets support all operations that do not mutate the data structure (and\n",
    "they have the same  complexity classes).\n",
    "\n",
    "\n",
    "Dictionaries: dict and defaultdict\n",
    "\n",
    "                               Complexity\n",
    "Operation     | Example      | Class         | Notes\n",
    "--------------+--------------+---------------+-------------------------------\n",
    "Index         | d[k]         | O(1)\t     |\n",
    "Store         | d[k] = v     | O(1)\t     |\n",
    "Length        | len(d)       | O(1)\t     |\n",
    "Delete        | del d[k]     | O(1)\t     |\n",
    "get/setdefault| d.get(k)     | O(1)\t     |\n",
    "Pop           | d.pop(k)     | O(1)\t     |\n",
    "Pop item      | d.popitem()  | O(1)\t     | popped item \"randomly\" selected\n",
    "Clear         | d.clear()    | O(1)\t     | similar to s = {} or = dict()\n",
    "View          | d.keys()     | O(1)\t     | same for d.values()\n",
    "\n",
    "Construction  | dict(...)    | O(len(...))   | depends # (key,value) 2-tuples\n",
    "\n",
    "Iteration     | for k in d:  | O(N)          | all forms: keys, values, items\n",
    "\t      \t      \t       \t\t     | Worst: no return/break in loop\n",
    "So, most dict operations are O(1).\n",
    "'''"
   ]
  },
  {
   "cell_type": "markdown",
   "metadata": {},
   "source": [
    "# 알고리즘 목차 (Algorithm Table of Contents)\n",
    "- 정렬 알고리즘 (Sorting Algorithms)\n",
    "   1. 버블 정렬 (Bubble Sort)\n",
    "   2. 선택 정렬 (Selection Sort)\n",
    "   3. 삽입 정렬 (Insertion Sort)\n",
    "   4. 병합 정렬 (Merge Sort)\n",
    "   5. 퀵 정렬 (Quick Sort)\n",
    "   6. 힙 정렬 (Heap Sort)\n",
    "   7. 계수 정렬 (Counting Sort)\n",
    "   8. 기수 정렬 (Radix Sort)\n",
    "   9. 버킷 정렬 (Bucket Sort)\n",
    "- 검색 알고리즘 (Searching Algorithms)\n",
    "   1. 선형 검색 (Linear Search)\n",
    "   2. 이진 검색 (Binary Search)\n",
    "   3. 탐색 트리 (Search Trees)\n",
    "      - 이진 탐색 트리 (BST)\n",
    "      - AVL 트리 (AVL Tree)\n",
    "      - 레드-블랙 트리 (Red-Black Tree)\n",
    "- 그래프 알고리즘 (Graph Algorithms)\n",
    "   1. 너비 우선 탐색 (BFS)\n",
    "   2. 깊이 우선 탐색 (DFS)\n",
    "   3. 다익스트라 알고리즘 (Dijkstra's Algorithm)\n",
    "   4. 벨만-포드 알고리즘 (Bellman-Ford Algorithm)\n",
    "   5. 플로이드-와샬 알고리즘 (Floyd-Warshall Algorithm)\n",
    "   6. 크루스칼 알고리즘 (Kruskal's Algorithm)\n",
    "  1. 프림 알고리즘 (Prim's Algorithm)\n",
    "- 동적 프로그래밍 (Dynamic Programming)\n",
    "   1. 피보나치 수열 (Fibonacci Sequence)\n",
    "   2. 최장 공통 부분 수열 (LCS)\n",
    "   3. 배낭 문제 (Knapsack Problem)\n",
    "   4. 최대 부분 배열 문제 (Maximum Subarray Problem)\n",
    "- 탐욕 알고리즘 (Greedy Algorithms)\n",
    "   1. 활동 선택 문제 (Activity Selection Problem)\n",
    "   2. 최소 동전 교환 문제 (Minimum Coin Change Problem)\n",
    "   3. 허프만 코딩 (Huffman Coding)\n",
    "- 분할 정복 (Divide and Conquer)\n",
    "   1. 병합 정렬 (Merge Sort)\n",
    "   2. 퀵 정렬 (Quick Sort)\n",
    "   3. 최근접 점 찾기 (Closest Pair of Points)\n",
    "   4. 스트라센 행렬 곱셈 (Strassen's Matrix Multiplication)\n",
    "- 기타 알고리즘 (Miscellaneous Algorithms)\n",
    "   1. 유니온 파인드 (Union-Find)\n",
    "   2. 해시 테이블 (Hash Table)\n",
    "   3. KMP 문자열 검색 (KMP String Search)\n",
    "   4. 보이어-무어 알고리즘 (Boyer-Moore Algorithm)\n",
    "   5. RSA 암호화 (RSA Encryption)\n",
    "\n",
    "\n",
    "학습 경로 요약 (Summary of Learning Path)  \n",
    "정렬 알고리즘 (Sorting Algorithms)  \n",
    "검색 알고리즘 (Searching Algorithms)  \n",
    "분할 정복 (Divide and Conquer)  \n",
    "그래프 알고리즘 (Graph Algorithms)  \n",
    "동적 프로그래밍 (Dynamic Programming)  \n",
    "탐욕 알고리즘 (Greedy Algorithms)  \n",
    "기타 알고리즘 (Miscellaneous Algorithms)  "
   ]
  },
  {
   "cell_type": "markdown",
   "metadata": {},
   "source": [
    "## 재귀"
   ]
  },
  {
   "cell_type": "markdown",
   "metadata": {},
   "source": [
    "함수내에서 자기자신을 호출, 반복적으로 이루어져야 하며, 종료조건을 만족할때까지 반복.\n",
    "문제를 더 작은 부분으로 분할하여 해결하는 분할정복 (divide and conquer)알고리즘에 많이 사용\n",
    "\n",
    "재귀적 사고(Recursive Thinking): 큰 문제를 더 작은 문제로 나누어 처리하는 사고 방식필요\n",
    "재귀함수를 사용한 문제를 해결에 유용\n",
    "- 문제분할: 복잡한 문제를 더 간단한 하위 문제로 나눕니다. 각 하위 문제는 원래 문제와 유사한 구조\n",
    "- 기저사례: 재귀호출 종료조건 설정. 더 이상 분할할 수 없는 가장 간단한 형태의 문제\n",
    "- 재귀호출: 하위 문제를 해결하기 위해 자신을 호출하는 방식으로 문제해결. 문제를 점진적으로 단순화"
   ]
  },
  {
   "cell_type": "markdown",
   "metadata": {},
   "source": [
    "함수에도 주소값이 부여되어 함수 호출시 메모리에 접근, 함수 호출에 들어가는 자원은 생각보다 크다.  \n",
    "그렇기 때문에 최신 컴파일러들은 함수를 최적화할 때 함수를 호출하는 대신 함수의 내용을 내부에 박아버린다.(inline)  \n",
    "재귀를 사용시 이런걸 못해서 함수호출 비용 최적화가 안된다. 람다함수도 마찬가지 (C++는 탬플릿잘박으면 람다도 해준다.)  \n",
    "재귀쓰는 형태가 보통 실행속도가 log로 나와서 ^(n)으로 나오는 알고리즘보다 크게 이득이지만  \n",
    "복잡한 문제를 재귀안쓰고 최적화로 풀어쓰기가 매우매우매우매우 어렵다  "
   ]
  },
  {
   "cell_type": "code",
   "execution_count": null,
   "metadata": {},
   "outputs": [],
   "source": [
    "def ab(a):\n",
    "  if a > 100:\n",
    "    return a\n",
    "  return ab(a*2)\n",
    "\n",
    "print(ab(1))"
   ]
  },
  {
   "cell_type": "code",
   "execution_count": null,
   "metadata": {},
   "outputs": [],
   "source": [
    "# 누적합계\n",
    "def fibonacci(n):\n",
    "  if n <= 1:\n",
    "    return n\n",
    "  return n + fibonacci(n-1)\n",
    "print(fibonacci(5))"
   ]
  },
  {
   "cell_type": "code",
   "execution_count": null,
   "metadata": {},
   "outputs": [],
   "source": [
    "# 피보나치 수열\n",
    "def fibonacci(n):\n",
    "  if n <= 1:\n",
    "    return n\n",
    "  return fibonacci(n-1) + fibonacci(n-2)\n",
    "print(fibonacci(5))"
   ]
  },
  {
   "cell_type": "code",
   "execution_count": null,
   "metadata": {},
   "outputs": [],
   "source": [
    "# 팩토리얼 n!\n",
    "def factorial(n):\n",
    "  if n <= 1:\n",
    "    return 1\n",
    "  return n*factorial(n-1)\n",
    "print(factorial(5)) "
   ]
  },
  {
   "cell_type": "code",
   "execution_count": null,
   "metadata": {},
   "outputs": [],
   "source": [
    "# 재귀: 숫자 뒤집기\n",
    "def flip_numbers(n):\n",
    "  if -10 < n < 10:\n",
    "    return n  \n",
    "print(flip_numbers(12345))"
   ]
  },
  {
   "cell_type": "code",
   "execution_count": null,
   "metadata": {},
   "outputs": [],
   "source": [
    "# 재귀 : 'hello' 뒤집기\n",
    "# 이걸?\n",
    "def reversed(string):\n",
    "  reversed(string)\n",
    "  return \n",
    "print(hello('hello'))"
   ]
  },
  {
   "cell_type": "code",
   "execution_count": null,
   "metadata": {},
   "outputs": [],
   "source": []
  },
  {
   "cell_type": "markdown",
   "metadata": {},
   "source": [
    "# 정렬 알고리즘 (Sorting Algorithms)"
   ]
  },
  {
   "cell_type": "markdown",
   "metadata": {},
   "source": [
    "## 1. 버블 정렬 (Bubble Sort)"
   ]
  },
  {
   "cell_type": "code",
   "execution_count": null,
   "metadata": {},
   "outputs": [],
   "source": [
    "# 버블 정렬\n",
    "def bubble_sort(arr):\n",
    "    n = len(arr)\n",
    "    for i in range(n):\n",
    "        for j in range(0, n-i-1):\n",
    "            if arr[j] > arr[j+1]:\n",
    "                arr[j], arr[j+1] = arr[j+1], arr[j]\n",
    "# 버블정렬\n",
    "def sort3(lst, upper_to_lower = True, cmp = lambda x, y: x if x >= y else y):\n",
    "    while True:\n",
    "        good = True\n",
    "        for i in range(1, len(lst)):\n",
    "          if lst[i] != cmp(lst[i], lst[i-1]):\n",
    "            lst[i], lst[i-1] = lst[i-1], lst[i]\n",
    "            good = False\n",
    "        if good:\n",
    "            break\n",
    "    if not upper_to_lower:\n",
    "        for x in range(len(lst)-1,-1,-1):\n",
    "            lst.append(lst.pop(x))\n",
    "    return lst\n",
    "sort3([1,3,4,2,4,5,1,34,456],False)"
   ]
  },
  {
   "cell_type": "code",
   "execution_count": null,
   "metadata": {},
   "outputs": [],
   "source": [
    "# 버블 정렬 코드\n",
    "arr = [2, 4, 1, 3]  # 정렬하고자 하는 리스트의 길이가 4니까?\n",
    "\n",
    "for i in range(len(arr)-1, 0, -1):  # 총 3회 시행, \n",
    "    for j in range(i): # 각 시행 횟수 안에서, 3 2 1 번씩 비교 할것 \n",
    "        if arr[j] > arr[j+1]: # 내가 오른쪽 녀석보다 크다면?\n",
    "            arr[j], arr[j+1] = arr[j+1], arr[j]  # 자리를 바꾼다!\n",
    "\n",
    "print(arr)\n",
    "# 이차원리스트 기준점\n",
    "a = [[4, 4, 16], [6, 1, 6], [4, 3, 12], [1, 12, 12], [5, 4, 20], [2, 3, 6], [3, 4, 12]]\n",
    "\n",
    "def bubble_sort(idx): # 기준점을 잡고 할 수 있다.\n",
    "\n",
    "    for i in range(len(a)-1, 0, -1):\n",
    "        for j in range(i):\n",
    "            if a[j][idx] > a[j+1][idx]: # 기준으로 비교하되,\n",
    "                a[j], a[j+1] = a[j+1], a[j] # 그 안의 객체가 바뀌는 것!\n",
    "\n",
    "bubble_sort(1) # 두 번째 인덱스를 기준으로 정렬한다.\n",
    "\n",
    "# 내장 함수와 key를 활용해 다음과 같이 정렬할 수 있다.\n",
    "sorted_a = sorted(a, key=lambda x: x[1])\n",
    "print(sorted_a)"
   ]
  },
  {
   "cell_type": "markdown",
   "metadata": {},
   "source": [
    "## 2. 선택 정렬 (Selection Sort)"
   ]
  },
  {
   "cell_type": "code",
   "execution_count": null,
   "metadata": {},
   "outputs": [],
   "source": [
    "# 불안정 정렬\n",
    "def selection_sort(arr):\n",
    "    # 배열의 크기만큼 반복\n",
    "    for i in range(len(arr)):\n",
    "        # i번째 원소를 기준으로 최소값 찾기\n",
    "        min_index = i\n",
    "        for j in range(i + 1, len(arr)):\n",
    "            if arr[j] < arr[min_index]:  # 현재 위치보다 더 작은 값이 있다면\n",
    "                min_index = j  # 최소값 인덱스 갱신\n",
    "\n",
    "        # 찾은 최소값을 i번째 원소와 교환\n",
    "        arr[i], arr[min_index] = arr[min_index], arr[i]\n",
    "\n",
    "    return arr\n",
    "\n",
    "data = [64, 25, 12, 22, 11]\n",
    "sorted_data = selection_sort(data)\n",
    "print(\"Sorted array:\", sorted_data)"
   ]
  },
  {
   "cell_type": "markdown",
   "metadata": {},
   "source": [
    "## 3. 삽입 정렬 (Insertion Sort)"
   ]
  },
  {
   "cell_type": "code",
   "execution_count": null,
   "metadata": {},
   "outputs": [],
   "source": [
    "def insertion_sort(arr):\n",
    "    for i in range(1, len(arr)):  # 두 번째 원소부터 시작\n",
    "        key = arr[i]  # 현재 원소\n",
    "        j = i - 1\n",
    "        # 정렬된 부분과 비교하여 적절한 위치 찾기\n",
    "        while j >= 0 and arr[j] > key:\n",
    "            arr[j + 1] = arr[j]  # 원소를 한 칸 오른쪽으로 이동\n",
    "            j -= 1\n",
    "        arr[j + 1] = key  # 적절한 위치에 현재 원소 삽입\n",
    "    return arr\n",
    "print(insertion_sort([64, 34, 25, 12, 22, 11, 90]))\n",
    "# 다듬어서\n",
    "def insertion_sort(arr):\n",
    "    for i in range(1, len(arr)):\n",
    "        key = arr[i]\n",
    "        j = i - 1\n",
    "        while j >= 0 and arr[j] > key:\n",
    "            j -= 1\n",
    "        arr.insert(j + 1, arr.pop(i))  # 현재 원소를 적절한 위치로 이동\n",
    "    return arr\n",
    "print(insertion_sort([64, 34, 25, 12, 22, 11, 90]))"
   ]
  },
  {
   "cell_type": "markdown",
   "metadata": {},
   "source": [
    "## 4. 병합 정렬 (Merge Sort)"
   ]
  },
  {
   "cell_type": "markdown",
   "metadata": {},
   "source": [
    "- 분할 정복 (Divide and Conquer)\n",
    "- 요소 2개를 비교하여 정렬하는 것은 쉽다\n",
    "- 정렬된 리스트 2개를 선두의 요소끼리 2개를 비교하여 정렬하는 것은 O(N)의 시간복잡도\n",
    "- 배열의 모든 요소를 쪼개고 정렬하면서 합치는 것이 병합정렬 알고리즘\n",
    "- 대부분의 상황에서 평균적으로 Nlog(N)의 시간복잡도를 보장"
   ]
  },
  {
   "cell_type": "code",
   "execution_count": null,
   "metadata": {},
   "outputs": [],
   "source": [
    "arr = [6, 3, 7, 2, 5, 8, 11, 13]\n",
    "# 쪼개놓고 두 배열의 앞숫자를 비교하여 더 큰것을 앞숫자로 보내기를 반복하며 배열을 정렬하여 합친다.\n",
    "\n",
    "# 쪼개는 함수\n",
    "def merge_sort(arr):\n",
    "    # 리스트의 크기가 1 이하이면 이미 정렬된 상태로 그대로 반환\n",
    "    if len(arr) <= 1:\n",
    "        return arr\n",
    "\n",
    "    # 리스트를 절반으로 나누기\n",
    "    mid = len(arr) // 2\n",
    "    left_half = arr[:mid]\n",
    "    right_half = arr[mid:]\n",
    "\n",
    "    # 재귀적으로 각 절반을 병합 정렬 수행\n",
    "    left_sorted = merge_sort(left_half)\n",
    "    right_sorted = merge_sort(right_half)\n",
    "\n",
    "    # 정렬된 두 부분을 병합\n",
    "    return merge(left_sorted, right_sorted)\n",
    "# 합치는 함수\n",
    "def merge(left, right):\n",
    "    # 두 정렬된 리스트를 병합하여 하나의 정렬된 리스트로 반환\n",
    "    merged = []\n",
    "    left_index = 0\n",
    "    right_index = 0\n",
    "\n",
    "    # 왼쪽과 오른쪽 리스트의 모든 요소를 비교하여 작은 요소부터 병합 리스트에 추가\n",
    "    while left_index < len(left) and right_index < len(right):\n",
    "        if left[left_index] < right[right_index]:\n",
    "            merged.append(left[left_index])\n",
    "            left_index += 1\n",
    "        else:\n",
    "            merged.append(right[right_index])\n",
    "            right_index += 1\n",
    "\n",
    "    # 남은 요소들을 병합 리스트에 추가\n",
    "    merged.extend(left[left_index:])\n",
    "    merged.extend(right[right_index:])\n",
    "\n",
    "    return merged\n",
    "\n",
    "data = [38, 27, 43, 3, 9, 82, 10]\n",
    "sorted_data = merge_sort(data)\n",
    "print(\"Sorted array:\", sorted_data)"
   ]
  },
  {
   "cell_type": "markdown",
   "metadata": {},
   "source": [
    "### 3. 최근접 점 찾기 (Closest Pair of Points)\n",
    "### 4. 스트라센 행렬 곱셈 (Strassen's Matrix Multiplication)"
   ]
  },
  {
   "cell_type": "markdown",
   "metadata": {},
   "source": [
    "## 5. 퀵 정렬 (Quick Sort)"
   ]
  },
  {
   "cell_type": "code",
   "execution_count": null,
   "metadata": {},
   "outputs": [],
   "source": [
    "# 불안정정렬"
   ]
  },
  {
   "cell_type": "markdown",
   "metadata": {},
   "source": [
    "## 6. 힙 정렬 (Heap Sort)"
   ]
  },
  {
   "cell_type": "markdown",
   "metadata": {},
   "source": [
    "## 7. 계수 정렬 (Counting Sort)"
   ]
  },
  {
   "cell_type": "markdown",
   "metadata": {},
   "source": [
    "## 8. 기수 정렬 (Radix Sort)"
   ]
  },
  {
   "cell_type": "markdown",
   "metadata": {},
   "source": [
    "## 9.  버킷 정렬 (Bucket Sort)"
   ]
  },
  {
   "cell_type": "markdown",
   "metadata": {},
   "source": [
    "# 검색 알고리즘 (Searching Algorithms)"
   ]
  },
  {
   "cell_type": "markdown",
   "metadata": {},
   "source": [
    "선형 이분 해시 해시 충돌 DFS BFS 점프 보간 지수 다익스트라알고리즘"
   ]
  },
  {
   "cell_type": "markdown",
   "metadata": {},
   "source": [
    "## 1. 기본 배열 탐색"
   ]
  },
  {
   "cell_type": "markdown",
   "metadata": {},
   "source": [
    "### 1.1 선형 탐색 (Linear Search)"
   ]
  },
  {
   "cell_type": "markdown",
   "metadata": {},
   "source": [
    "- 부르트 포스 방식\n",
    "- 모든 요소를 차례대로 확인\n",
    "- 시간복잡도 O(n)"
   ]
  },
  {
   "cell_type": "code",
   "execution_count": null,
   "metadata": {},
   "outputs": [],
   "source": [
    "# 다차원 배열에서 선형 탐색\n",
    "def linear_search(arr, target):\n",
    "    # 배열 요소 순회\n",
    "    assert isinstance(arr, (list, tuple)), \"It's not an array\"\n",
    "    for i, x in enumerate(arr):\n",
    "        if x == target:  \n",
    "            return (i,)  # 목표 값이면 인덱스 튜플로 반환\n",
    "        if isinstance(x, (list, tuple)): # 순회도중 요소가 배열인 경우\n",
    "            idx = linear_search(x, target) # 배열의 요소를 꼬리재귀로 파고들며 탐색\n",
    "            if idx != -1:  # 배열을 끝까지 순회하여 목표 값이 반환된 경우\n",
    "                return (i,) + idx  # 현재 인덱스와 재귀 호출 결과를 결합하여 반환\n",
    "    return -1  # 목표 값이 나오지 않으면 -1 반환"
   ]
  },
  {
   "cell_type": "markdown",
   "metadata": {},
   "source": [
    "### 1.2 이분 탐색 (Binary Search) ★★★★★"
   ]
  },
  {
   "cell_type": "markdown",
   "metadata": {},
   "source": [
    "- 배열이 정렬 되어 있을 때 사용하는 탐색 방법\n",
    "- 배열을 절반으로 나누어가며 목표값을 탐색\n",
    "- 시간복잡도 O(log2(n))\n",
    "- 정렬된 배열에서만 사용가능"
   ]
  },
  {
   "cell_type": "code",
   "execution_count": null,
   "metadata": {},
   "outputs": [],
   "source": [
    "def binary_search(arr, target):\n",
    "    left, right = 0, len(arr) - 1  # 탐색 범위 설정\n",
    "    while left <= right:\n",
    "        mid = (left + right) // 2  # 중간 인덱스 계산\n",
    "        if arr[mid] == target:      # 중간 값이 목표 값이면 해당 인덱스 반환\n",
    "            return mid\n",
    "        elif arr[mid] < target:     # 중간 값이 목표 값보다 작으면 오른쪽 탐색\n",
    "            left = mid + 1\n",
    "        else:                       # 중간 값이 목표 값보다 크면 왼쪽 탐색\n",
    "            right = mid - 1\n",
    "    return -1  # 목표 값을 찾지 못했을 때 -1 반환\n",
    "\n",
    "# 예제: 이분 탐색 (정렬된 배열을 전제로 함)\n",
    "arr_sorted = [3, 6, 8, 12, 14, 17]\n",
    "target = 14\n",
    "result = binary_search(arr_sorted, target)  # 14는 배열의 4번째 인덱스에 있음\n",
    "print(f\"이분 탐색 결과: {result}\")  # 출력: 이분 탐색 결과: 4"
   ]
  },
  {
   "cell_type": "markdown",
   "metadata": {},
   "source": [
    "## 2. 해시 탐색"
   ]
  },
  {
   "cell_type": "markdown",
   "metadata": {},
   "source": [
    "# 트리/그래프 알고리즘"
   ]
  },
  {
   "cell_type": "markdown",
   "metadata": {},
   "source": [
    "## 1. 너비 우선 탐색 (BFS) ★★★★★"
   ]
  },
  {
   "cell_type": "markdown",
   "metadata": {},
   "source": [
    "- 최단경로와 연결요소 탐색에 자주 사용, 큐 자료 구조를 활용한 탐색 방식\n",
    "- 시간복잡도 O(V + E)\n",
    "- 그래프/트리구조에서 레벨별 탐색에 가장 유용"
   ]
  },
  {
   "cell_type": "code",
   "execution_count": null,
   "metadata": {},
   "outputs": [],
   "source": [
    "# 큐를 이용한 BFS\n",
    "from collections import deque\n",
    "\n",
    "def bfs(graph, start):\n",
    "    visited = set()  # 방문 기록용 집합\n",
    "    queue = deque([start])  # 시작 노드를 큐에 추가\n",
    "\n",
    "    while queue:\n",
    "        node = queue.popleft()  # 큐에서 노드 추출\n",
    "        if node not in visited:\n",
    "            print(node)           # 노드 방문\n",
    "            visited.add(node)     # 방문한 노드 추가\n",
    "            queue.extend(graph[node])  # 인접 노드를 큐에 추가\n",
    "\n",
    "# 그래프 정의 (인접 리스트 형태)\n",
    "graph = {\n",
    "    'A': ['B', 'C'],\n",
    "    'B': ['D', 'E'],\n",
    "    'C': ['F'],\n",
    "    'D': [],\n",
    "    'E': [],\n",
    "    'F': []\n",
    "}\n",
    "\n",
    "# BFS 실행\n",
    "bfs(graph, 'A')\n",
    "\n",
    "'''deque를 사용해 이중연결리스트로된 큐를 구현, 방문한 노드를 기록하기위해 집합을 사용, 현재 노드의 인접노드를 큐에 추가하여 다음레벨로 이동'''"
   ]
  },
  {
   "cell_type": "markdown",
   "metadata": {},
   "source": [
    "## 2. 깊이 우선 탐색 (DFS, Depth-First Search) ★★★★★"
   ]
  },
  {
   "cell_type": "markdown",
   "metadata": {},
   "source": [
    "- 그래프나 트리에서 한 경로를 따라 깊이 탐색\n",
    "- 시간복잡도 O(V + E) (정점 수 V, 간선 수 E 에 비례)\n",
    "- 경로탐색, 백트래킹, 순환구조 등을 다루는 문제에서 필수"
   ]
  },
  {
   "cell_type": "code",
   "execution_count": null,
   "metadata": {},
   "outputs": [],
   "source": [
    "# 재귀를 이용한 DFS\n",
    "def dfs(graph, node, visited):\n",
    "    if node not in visited:  # 노드를 방문하지 않았다면\n",
    "        print(node)           # 노드 방문\n",
    "        visited.add(node)     # 방문한 노드 추가\n",
    "        for neighbor in graph[node]:  # 인접 노드 탐색\n",
    "            dfs(graph, neighbor, visited)\n",
    "\n",
    "# 그래프 정의 (인접 리스트 형태)\n",
    "graph = {\n",
    "    'A': ['B', 'C'],\n",
    "    'B': ['D', 'E'],\n",
    "    'C': ['F'],\n",
    "    'D': [],\n",
    "    'E': [],\n",
    "    'F': []\n",
    "}\n",
    "\n",
    "# 방문 기록용 집합\n",
    "visited = set()\n",
    "dfs(graph, 'A', visited)\n",
    "\n",
    "'''dfs 함수가 현재 노드를 방문하고, 인접한 모든 노드를 재귀적으로 탐색, 재귀호출은 깊이가 깊어지면 스택오버플로우가 발생 이럴거면 재귀가 왜 있는지 의문 인터프리터언어는 원래 이런가?'''"
   ]
  },
  {
   "cell_type": "code",
   "execution_count": null,
   "metadata": {},
   "outputs": [],
   "source": [
    "# 스택을 이용한 DFS\n",
    "def dfs_iterative(graph, start):\n",
    "    visited = set()  # 방문 기록용 집합\n",
    "    stack = [start]  # 시작 노드를 스택에 추가\n",
    "\n",
    "    while stack:\n",
    "        node = stack.pop()  # 스택에서 노드 추출\n",
    "        if node not in visited:\n",
    "            print(node)      # 노드 방문\n",
    "            visited.add(node)  # 방문한 노드 추가\n",
    "            stack.extend(reversed(graph[node]))  # 인접 노드 스택에 추가\n",
    "\n",
    "# 그래프 정의 (인접 리스트 형태)\n",
    "graph = {\n",
    "    'A': ['B', 'C'],\n",
    "    'B': ['D', 'E'],\n",
    "    'C': ['F'],\n",
    "    'D': [],\n",
    "    'E': [],\n",
    "    'F': []\n",
    "}\n",
    "\n",
    "# DFS 실행\n",
    "dfs_iterative(graph, 'A')\n",
    "\n",
    "'''dfs_iterative 스택을 사용해 노드에 방문하고, 인접노드를 스택에 추가하는 방식으로 비재귀적 DFS 수행'''"
   ]
  },
  {
   "cell_type": "markdown",
   "metadata": {},
   "source": [
    "## 3. 다익스트라 알고리즘 (Dijkstra's Algorithm) ★★★★★"
   ]
  },
  {
   "cell_type": "markdown",
   "metadata": {},
   "source": [
    "- 그래프에서 최단 경로를 찾는 알고리즘, 가중치가 있는 그래프에서 많이 사용\n",
    "- 시간복잡도 O(V^2) : 최소 우선순위 큐 사용시 O( (V+E)log(V) )\n",
    "- 최단경로문제 필수 알고리즘"
   ]
  },
  {
   "cell_type": "markdown",
   "metadata": {},
   "source": [
    "## 그외 탐색 트리 (Search Trees)\n",
    "   - 이진 탐색 트리 (BST)\n",
    "   - AVL 트리 (AVL Tree)\n",
    "   - 레드-블랙 트리 (Red-Black Tree)\n",
    "\n",
    "## 기타\n",
    " 4. 벨만-포드 알고리즘 (Bellman-Ford Algorithm)\n",
    " 5. 플로이드-와샬 알고리즘 (Floyd-Warshall Algorithm)\n",
    " 6. 크루스칼 알고리즘 (Kruskal's Algorithm)\n",
    " 7. 프림 알고리즘 (Prim's Algorithm)"
   ]
  },
  {
   "cell_type": "markdown",
   "metadata": {},
   "source": [
    "# 동적 프로그래밍 (Dynamic Programming)"
   ]
  },
  {
   "cell_type": "markdown",
   "metadata": {},
   "source": [
    "#### 1. 피보나치 수열 (Fibonacci Sequence)"
   ]
  },
  {
   "cell_type": "code",
   "execution_count": null,
   "metadata": {},
   "outputs": [],
   "source": [
    "# 재귀를 이용한 피보나치\n",
    "# def fibonacci(n):\n",
    "#     if n <= 1:\n",
    "#         return n\n",
    "#     else:\n",
    "#         return fibonacci(n-1) + fibonacci(n-2)\n",
    "# print(fibonacci(35))\n",
    "\n",
    "# 1003번 피보나치 함수 s3\n",
    "T = int(input())\n",
    "dic = {0:0, 1:1, '0':1, '1':0}\n",
    "for i in range(T):\n",
    "    N = int(input())\n",
    "    for i in range(2,N+1):\n",
    "        dic[i] = dic[i-1] + dic[i-2]\n",
    "        dic[str(i)] = dic[str(i-1)] + dic[str(i-2)]\n",
    "    print(dic[str(N)], dic[N])"
   ]
  },
  {
   "cell_type": "markdown",
   "metadata": {},
   "source": [
    "#### 2. 최장 공통 부분 수열 (LCS)\n",
    "#### 3. 배낭 문제 (Knapsack Problem)\n",
    "#### 4. 최대 부분 배열 문제 (Maximum Subarray Problem)"
   ]
  },
  {
   "cell_type": "markdown",
   "metadata": {},
   "source": [
    "# 탐욕 알고리즘 (Greedy Algorithms)"
   ]
  },
  {
   "cell_type": "markdown",
   "metadata": {},
   "source": [
    "## 1. 활동 선택 문제 (Activity Selection Problem)\n",
    "## 2. 최소 동전 교환 문제 (Minimum Coin Change Problem)\n",
    "## 3. 허프만 코딩 (Huffman Coding)"
   ]
  },
  {
   "cell_type": "markdown",
   "metadata": {},
   "source": [
    "# 기타 알고리즘"
   ]
  },
  {
   "cell_type": "markdown",
   "metadata": {},
   "source": [
    "## 델타탐색"
   ]
  },
  {
   "cell_type": "markdown",
   "metadata": {},
   "source": [
    "- 상태가 변화하는 알고리즘에서 변화량을 지정해 최적의 결과를 탐색하는 알고리즘\n",
    "- 이 변화값이 델타"
   ]
  },
  {
   "cell_type": "code",
   "execution_count": null,
   "metadata": {},
   "outputs": [],
   "source": [
    "# 이차원 리스트에서 좌표값의 방향변화를 델타로 탐색\n",
    "matrix = [[3, 7, 9], \n",
    "          [4, 2, 6], \n",
    "          [8, 1, 5]]\n",
    "r, c = 0, 2\n",
    "# 델타값 리스트 dr, dc\n",
    "dr = [-1, 1, 0, 0]\n",
    "dc = [0, 0, -1, 1]\n",
    "\n",
    "for d in range(4):\n",
    "    nr, nc = r+dr[d], c+dc[d]\n",
    "    # 유효성 검사\n",
    "    if 0 <= nr < 3 and 0 <= nc < 3:\n",
    "        print(matrix[nr][nc])\n",
    "# 변화(델타)를 지정하고 상태조건(델타세팅)에 따라 지정한 변화가 실행되도록 궁리하는 발상이 중요"
   ]
  },
  {
   "cell_type": "markdown",
   "metadata": {},
   "source": [
    "- 유니온 파인드 (Union-Find)\n",
    "- 해시 테이블 (Hash Table)\n",
    "- KMP 문자열 검색 (KMP String Search)\n",
    "- 보이어-무어 알고리즘 (Boyer-Moore Algorithm)\n",
    "- RSA 암호화 (RSA Encryption)"
   ]
  },
  {
   "cell_type": "markdown",
   "metadata": {},
   "source": [
    "---\n",
    "# 자료구조\n",
    "---"
   ]
  },
  {
   "cell_type": "markdown",
   "metadata": {},
   "source": [
    "\n",
    "데이터를 효율적으로 저장하고 관리하는 방식  \n",
    "데이터를 표현하고 조작하는 데 필요한 것으로써 삽입, 수정, 삭제, 검색, 정렬, 병합 및 순회와 같은 기본적인 연산을 지원  \n",
    "데이터와 목적에 맞는 특성을 지닌 자료구조를 선택하는 것은 효율적인 알고리즘 작성에 필수 \n",
    "\n",
    "- 자료구조\n",
    "  - 단순자료구조\n",
    "    - 자료형(data type)\n",
    "      - 기초자료형 : 2진수&정수/실수&문자/문자열\n",
    "      - 파생자료형 : 배열/포인터\n",
    "      - 사용자정의 자료형 : struct(구조체)/Union(공용체)/Enum(열거형)\n",
    "  - 복합자료구조\n",
    "    - 선형구조 (Linear Structure)\n",
    "      - 리스트(배열)\n",
    "      - 연결리스트 (Linked List)\n",
    "        - 단순/이중/원형 (Singly/Doubly/Circular) Linked List\n",
    "      - 덱 (Deque)\n",
    "      - 스택 (Stack)\n",
    "      - 큐 (Queue)\n",
    "    - 비선형구조 (Non-linear Structure)\n",
    "      - 그래프\n",
    "        - 방향/무방향 (Directed/Undirected) Graph\n",
    "      - 트리\n",
    "        - 일반\n",
    "        - 이진\n",
    "          - 이진탐색트리(BST)\n",
    "          - 자가 균형 이진 탐색 트리 (AVL Tree, Red-Black Tree 등)\n",
    "    - 파일구조\n",
    "      - 텍스트 파일\n",
    "      - 이진 파일\n",
    "      - DB 파일\n",
    "\n",
    "<스택,큐,환형 큐,힙,트리,그래프>6가지 숙지?  "
   ]
  },
  {
   "cell_type": "markdown",
   "metadata": {},
   "source": [
    "---\n",
    "# 복합 자료구조(Data Structure)\n",
    "------\n"
   ]
  },
  {
   "cell_type": "markdown",
   "metadata": {},
   "source": [
    "- Abstract Data Type, ADT. 추상적 자료형 :   - 자료 자체의 형태와 그 자료에 관계된 연산들을 수학적으로만 정의한 것.  \n",
    "  구현세부 사항을 다루면 자료구조:  알고리즘의 선수과목   "
   ]
  },
  {
   "cell_type": "markdown",
   "metadata": {},
   "source": [
    "## 선형 구조 (Linear Structures)"
   ]
  },
  {
   "cell_type": "markdown",
   "metadata": {},
   "source": [
    "한 종류의 데이터가 선처럼 길게 나열된 자료구조  \n",
    "탐색법: 순차탐색, 이진탐색 등"
   ]
  },
  {
   "cell_type": "markdown",
   "metadata": {},
   "source": [
    "### 정적 자료구조"
   ]
  },
  {
   "cell_type": "markdown",
   "metadata": {},
   "source": [
    "#### 1. 배열 (Array)\n",
    "- 컴퓨터과학에서 가장 일반적인 구조\n",
    "- 각각의 변수를 인덱스를 통해 순서대로 그룹화\n",
    "- 파이썬에서는 리스트와 튜플로 구현하고 활용"
   ]
  },
  {
   "cell_type": "markdown",
   "metadata": {},
   "source": [
    " 1. **배열 (Arrays 또는 Python의 리스트)**\n",
    "    - 정의: 고정된 크기의 동일한 데이터 타입 요소들의 모음. 파이썬에서는 리스트가 배열과 유사하지만, 크기가 동적이고 다양한 데이터 타입을 포함할 수 있습니다.\n",
    "    - 사용 사례: 인덱스를 통한 빠른 데이터 접근이 필요할 때.  \n",
    "    - 예시: 숫자 리스트를 저장하고 출력.  \n",
    "\n",
    " 배열 예시 (Python 리스트)  \n",
    "array = [10, 20, 30, 40, 50]  \n",
    "print(\"Array:\", array)  "
   ]
  },
  {
   "cell_type": "markdown",
   "metadata": {},
   "source": [
    "### 동적 자료구조"
   ]
  },
  {
   "cell_type": "markdown",
   "metadata": {},
   "source": [
    "#### 2. 연결 리스트 (Linked List) 4"
   ]
  },
  {
   "cell_type": "markdown",
   "metadata": {},
   "source": [
    "- 각 노드가 데이터와 다음 노드를 가리키는 포인터를 가지고 한 줄로 연결된 선형 데이터 구조\n",
    "- 노드의 포인터가 이전, 다음 노드와의 연결을 담당\n",
    "- 사용 사례: 요소 삽입/삭제가 자주 일어나는 경우.(배열은 삽입 삭제시 모든 뒷 인덱스를 밀어내고 당겨야하고, 연결리스트는 요소 검색시 발견할때까지 포인터를 타고 검색해야함.)\n",
    "- 파이썬의 리스트는 배열과 연결리스트의 특징을 동시에 가지고 있다."
   ]
  },
  {
   "cell_type": "code",
   "execution_count": null,
   "metadata": {},
   "outputs": [],
   "source": [
    "class Node:\n",
    "    def __init__(self, _data, _next = None):\n",
    "        self.data = _data  # 노드의 데이터를 저장\n",
    "        self.next = _next  # 다음 노드를 가리키는 포인터 (None으로 초기화)\n",
    "\n",
    "class LinkedList:\n",
    "    def __init__(self):\n",
    "        self.head = None  # 연결 리스트의 첫 번째 노드 (헤드)\n",
    "\n",
    "    def append(self, data):\n",
    "        if not self.head:\n",
    "            self.head = Node(data)\n",
    "        else:\n",
    "            current = self.head\n",
    "            while current.next:\n",
    "                current = current.next\n",
    "            current.next = Node(data)\n",
    "\n",
    "    def print_list(self):\n",
    "        current = self.head\n",
    "        while current:\n",
    "            print(current.data, end=\" -> \")\n",
    "            current = current.next\n",
    "        print(\"None\")\n",
    "\n",
    " 연결 리스트 생성 및 요소 추가\n",
    "ll = LinkedList()\n",
    "ll.append(1)\n",
    "ll.append(2)\n",
    "ll.append(3)\n",
    "print(\"Linked List:\")\n",
    "ll.print_list()"
   ]
  },
  {
   "cell_type": "markdown",
   "metadata": {},
   "source": [
    "##### 2.1단일 연결리스트(Contiguous List)"
   ]
  },
  {
   "cell_type": "code",
   "execution_count": null,
   "metadata": {},
   "outputs": [],
   "source": [
    "# appendleft(x): 연결 리스트의 처음에 x를 추가한다.\n",
    "# append(x): 연결 리스트의 끝 x를 추가한다.\n",
    "# popleft(): 연결 리스트에서 첫 노드의 값을 반환하고, 노드는 삭제한다.\n",
    "# pop(): 연결 리스트에서 마지막 노드의 값을 반환하고, 노드는 삭제한다.\n",
    "# insert(i, x): 연결 리스트의 i번 인덱스에 x를 추가한다.\n",
    "# remove(x): 연결 리스트에서 값이 x인 노드를 찾아 삭제한다.\n",
    "# reverse(): 연결 리스트를 제자리에서 순서를 뒤집는다.\n",
    "\n",
    "# __len__: len() 함수를 사용할 때 연결 리스트의 길이를 반환한다.\n",
    "# __contains__: 연산자 in과 not in을 사용할 때 연결 리스트 내의 값을 검사하여 True, False를 반환한다.\n",
    "# __str__: str()과 print() 함수를 사용할 때 출력할 문자열을 반환한다."
   ]
  },
  {
   "cell_type": "code",
   "execution_count": null,
   "metadata": {},
   "outputs": [],
   "source": [
    "class Node:\n",
    "    def __init__(self, data):\n",
    "        self.data = data\n",
    "        self.next = None\n",
    "class LinkedList:\n",
    "    def __init__(self):\n",
    "        self.head = None\n",
    "        self.length = 0\n",
    "    def __len__(self):\n",
    "        return self.length\n",
    "    # len()함수사용시 반환"
   ]
  },
  {
   "cell_type": "code",
   "execution_count": null,
   "metadata": {},
   "outputs": [],
   "source": [
    "class Node:\n",
    "    def __init__(self, data):\n",
    "        self.data = data\n",
    "        self.next = None\n",
    "class LinkedList:\n",
    "    def __init__(self):\n",
    "        self.head = None\n",
    "        self.length = 0\n",
    "\n",
    "    def __len__(self):\n",
    "        return self.length\n",
    "    def appendleft(self, data):\n",
    "        if self.head is None:\n",
    "            self.head = Node(data)\n",
    "        else:\n",
    "            node = Node(data)\n",
    "            node.next = self.head\n",
    "            self.head = node\n",
    "        self.length += 1\n",
    "    def append(self, data):\n",
    "        if self.head is None:\n",
    "            self.head = Node(data)\n",
    "        else:\n",
    "            node = self.head\n",
    "            while node.next is not None:\n",
    "                node = node.next\n",
    "            node.next = Node(data)\n",
    "        self.length += 1\n",
    "    def __str__(self):\n",
    "        if self.head is None:\n",
    "            return \"Linked list is empty!\"\n",
    "        res = \"Head\"\n",
    "        node = self.head\n",
    "        while node is not None:\n",
    "            res += \" → \" + str(node.data)\n",
    "            node = node.next\n",
    "        return res\n",
    "\n",
    "\n",
    "if __name__ == \"__main__\":\n",
    "    my_list = LinkedList()\n",
    "    print(f\"연결 리스트 생성.  연결 리스트의 길이 = {len(my_list)}\")\n",
    "    print(my_list)\n",
    "    print()\n",
    "    for i in range(4):\n",
    "        if i % 2:\n",
    "            my_list.append(i)\n",
    "        else:\n",
    "            my_list.appendleft(i)\n",
    "        print(f\"{i}을(를) 추가.  연결 리스트의 길이 = {len(my_list)}\")\n",
    "        print(my_list)\n",
    "        print()"
   ]
  },
  {
   "cell_type": "code",
   "execution_count": null,
   "metadata": {},
   "outputs": [],
   "source": [
    "class Node:\n",
    "  def __init__(self, data):\n",
    "    self.data = data\n",
    "    self.next = None\n",
    "\n",
    "class LinkedList:\n",
    "  def __init__(self):\n",
    "    init = Node('init')\n",
    "    self.head = init\n",
    "    self.tail = init\n",
    "    self.node = None\n",
    "    self.size = 0\n",
    "  \n",
    "  def append(self, data):\n",
    "    node = Node(data)\n",
    "    self.tail.next = node\n",
    "    self.tail = node\n",
    "    self.size += 1\n",
    "\n",
    "I = LinkedList()\n",
    "I.append(10)\n",
    "I.append(20)\n",
    "I.append(30)\n",
    "I.append(40)\n",
    "I.append(50)"
   ]
  },
  {
   "cell_type": "markdown",
   "metadata": {},
   "source": [
    "##### 2.2 이중 연결리스트(doubly linked list)"
   ]
  },
  {
   "cell_type": "markdown",
   "metadata": {},
   "source": [
    "- 양쪽 끝에서 요소를 빠르게 추가하거나 제거할 수 있는 자료구조\n",
    "- 큐, 스택, 슬라이딩 윈도우, BFS(너비 우선 탐색) 등에서 자주 사용\n",
    "- 양쪽에서 O(1) 시간 복잡도로 삽입 및 삭제\n",
    "- list로 큐를 구현하면 처음 위치에서 삽입, 삭제 시 O(n)의 시간이 걸리기 때문에, 큐/스택에서 deque가 더 효율적"
   ]
  },
  {
   "cell_type": "code",
   "execution_count": null,
   "metadata": {},
   "outputs": [],
   "source": [
    "from collections import deque\n",
    "\n",
    "# 초기 deque 생성\n",
    "dq_max = deque([1, 2, 3], maxlen=5)  # maxlen - deque의 최대 길이 설정\n",
    "dq = deque([1, 2, 3, 4])  # 초기 dq: deque([1, 2, 3, 4])\n",
    "dq.append(5)             # append - 오른쪽 끝에 요소 추가\n",
    "dq.appendleft(0)         # appendleft - 왼쪽 끝에 요소 추가\n",
    "dq.extend([5, 6])        # extend - 오른쪽 끝에 여러 요소 추가\n",
    "dq.extendleft([-1, -2])  # extendleft - 왼쪽 끝에 여러 요소 추가\n",
    "dq.pop()                 # pop - 오른쪽 끝에서 요소 제거\n",
    "dq.popleft()             # popleft - 왼쪽 끝에서 요소 제거\n",
    "dq.remove(1)             # remove - 첫 번째로 나오는 특정 요소 제거\n",
    "dq.reverse()             # reverse - 요소 순서 반전\n",
    "dq.rotate(2)             # rotate - 요소를 오른쪽으로 회전 (음수는 왼쪽 회전)\n",
    "index_3 = dq.index(3)    # index - 특정 요소의 첫 번째 인덱스 반환\n",
    "dq.insert(1, 9)          # insert - 특정 위치에 요소 삽입\n",
    "dq.clear()               # clear - 모든 요소 제거\n",
    "dq_copy = dq.copy()      # copy - 복사본 생성\n",
    "count_1 = dq.count(1)    # count - 특정 요소의 개수"
   ]
  },
  {
   "cell_type": "code",
   "execution_count": null,
   "metadata": {},
   "outputs": [],
   "source": [
    "# Node 클래스 정의\n",
    "class Node:\n",
    "    def __init__(self, data):\n",
    "        self.data = data        # 데이터를 저장하는 변수\n",
    "        self.prev = None        # 이전 노드를 가리키는 포인터\n",
    "        self.next = None        # 다음 노드를 가리키는 포인터\n",
    "\n",
    "# 이중 연결 리스트 클래스 정의\n",
    "class DoublyLinkedList:\n",
    "    def __init__(self):\n",
    "        self.head = None        # 첫 번째 노드를 가리키는 포인터\n",
    "        self.tail = None        # 마지막 노드를 가리키는 포인터\n",
    "\n",
    "    # 리스트 끝에 노드 추가\n",
    "    def append(self, data):\n",
    "        new_node = Node(data)   # 새로운 노드를 생성\n",
    "        if self.head is None:   # 리스트가 비어있는 경우\n",
    "            self.head = new_node\n",
    "            self.tail = new_node\n",
    "        else:\n",
    "            new_node.prev = self.tail\n",
    "            self.tail.next = new_node\n",
    "            self.tail = new_node\n",
    "\n",
    "    # 리스트 앞에 노드 추가\n",
    "    def prepend(self, data):\n",
    "        new_node = Node(data)   # 새로운 노드를 생성\n",
    "        if self.head is None:   # 리스트가 비어있는 경우\n",
    "            self.head = new_node\n",
    "            self.tail = new_node\n",
    "        else:\n",
    "            new_node.next = self.head\n",
    "            self.head.prev = new_node\n",
    "            self.head = new_node\n",
    "\n",
    "    # 특정 데이터 삭제\n",
    "    def delete(self, data):\n",
    "        current = self.head\n",
    "        while current:          # 리스트를 순회하며 노드를 찾음\n",
    "            if current.data == data:\n",
    "                if current.prev:\n",
    "                    current.prev.next = current.next\n",
    "                else:\n",
    "                    self.head = current.next  # head 노드 삭제 시\n",
    "\n",
    "                if current.next:\n",
    "                    current.next.prev = current.prev\n",
    "                else:\n",
    "                    self.tail = current.prev  # tail 노드 삭제 시\n",
    "                return\n",
    "            current = current.next\n",
    "\n",
    "    # 리스트 출력\n",
    "    def display(self):\n",
    "        nodes = []\n",
    "        current = self.head\n",
    "        while current:\n",
    "            nodes.append(current.data)\n",
    "            current = current.next\n",
    "        print(\" <-> \".join(map(str, nodes)))\n",
    "\n",
    "# 사용 예시\n",
    "dll = DoublyLinkedList()\n",
    "dll.append(1)          # 1을 추가\n",
    "dll.append(2)          # 2를 추가\n",
    "dll.append(3)          # 3을 추가\n",
    "dll.prepend(0)         # 0을 리스트 맨 앞에 추가\n",
    "dll.display()          # 출력: 0 <-> 1 <-> 2 <-> 3\n",
    "\n",
    "dll.delete(2)          # 값이 2인 노드 삭제\n",
    "dll.display()          # 출력: 0 <-> 1 <-> 3\n"
   ]
  },
  {
   "cell_type": "markdown",
   "metadata": {},
   "source": [
    "##### 2.3 원형 연결리스트(circular linked list)"
   ]
  },
  {
   "cell_type": "markdown",
   "metadata": {},
   "source": [
    "#### 3. 스택 (Stack)  2"
   ]
  },
  {
   "cell_type": "markdown",
   "metadata": {},
   "source": [
    "- LIFO(Last In First Out) 후입선출 방식으로 동작하는 선형 데이터 구조. 요소 추가/제거시 마지막에 입력된 데이터를 먼저 출력\n",
    "    - 사용 사례: 함수 호출, 역순 배치, 브라우저 뒤로가기 기능 등.\n",
    "- Stack 기본 연산  \n",
    "    - push(item): item 하나를 스택의 가장 윗 부분에 추가  \n",
    "    - pop(): 스택에서 가장 위에 있는 항목을 제거  \n",
    "    - peek(): 스택의 가장 위에 있는 항목을 반환  \n",
    "    - isEmpty(): 스택이 비어 있을 때에 true를 반환  "
   ]
  },
  {
   "cell_type": "code",
   "execution_count": null,
   "metadata": {},
   "outputs": [],
   "source": [
    "#(리스트를 스택처럼 사용한 예)  \n",
    "stack = []  \n",
    "stack.append(1)  # 스택에 1 추가  \n",
    "stack.append(2)  # 스택에 2 추가  \n",
    "stack.append(3)  # 스택에 3 추가  \n",
    "print(stack.pop())  # LIFO (Last In First Out)"
   ]
  },
  {
   "cell_type": "markdown",
   "metadata": {},
   "source": [
    "##### 2.1 배열기반 스택(Array-based stack)"
   ]
  },
  {
   "cell_type": "code",
   "execution_count": null,
   "metadata": {},
   "outputs": [],
   "source": [
    "# array stack\n",
    "class ArrayStack:\n",
    "    def __init__(self, size):\n",
    "        self.top = -1  # 스택의 꼭대기를 가리키는 인덱스\n",
    "        self.size = size  # 스택의 최대 크기\n",
    "        self.stack = [None] * size  # 주어진 크기로 배열 생성\n",
    "\n",
    "    def is_empty(self):\n",
    "        # 스택이 비어있는지 확인\n",
    "        return self.top < 0\n",
    "\n",
    "    def peek(self):\n",
    "        # 스택의 꼭대기 데이터를 반환 (제거하지 않음)\n",
    "        if self.is_empty():\n",
    "            return None  # 스택이 비어있으면 None 반환\n",
    "        return self.stack[self.top]\n",
    "\n",
    "    def push(self, value):\n",
    "        # 스택에 데이터를 추가\n",
    "        if self.top + 1 >= self.size:\n",
    "            print(\"Stack overflow\")  # 스택이 가득 차면 에러 메시지 출력\n",
    "            return\n",
    "        self.top += 1  # 꼭대기 인덱스 증가\n",
    "        self.stack[self.top] = value  # 새로운 값 추가\n",
    "\n",
    "    def pop(self):\n",
    "        # 스택에서 데이터를 제거하고 반환\n",
    "        if self.is_empty():\n",
    "            return None  # 스택이 비어있으면 None 반환\n",
    "        value = self.stack[self.top]  # 꼭대기 값을 저장\n",
    "        self.top -= 1  # 꼭대기 인덱스 감소\n",
    "        return value  # 제거된 값 반환\n",
    "\n",
    "# 사용 예시\n",
    "if __name__ == \"__main__\":\n",
    "    stack = ArrayStack(5)  # 크기가 5인 스택 생성\n",
    "\n",
    "    stack.push(10)\n",
    "    stack.push(20)\n",
    "    stack.push(30)\n",
    "\n",
    "    print(\"Top element is:\", stack.peek())  # 출력: Top element is: 30\n",
    "\n",
    "    print(\"Popped element is:\", stack.pop())  # 출력: Popped element is: 30\n",
    "    print(\"Top element is now:\", stack.peek())  # 출력: Top element is now: 20\n",
    "\n",
    "    stack.pop()  # 20 제거\n",
    "    stack.pop()  # 10 제거\n",
    "\n",
    "    print(\"Is stack empty?\", stack.is_empty())  # 출력: Is stack empty? True\n",
    "\n",
    "    # 스택이 가득 찼을 때\n",
    "    for i in range(5):\n",
    "        stack.push(i + 1)\n",
    "\n",
    "    stack.push(6)  # 스택 오버플로우 발생"
   ]
  },
  {
   "cell_type": "markdown",
   "metadata": {},
   "source": [
    "##### 2.2 연결리스트기반 스택(Linked list-based stack)"
   ]
  },
  {
   "cell_type": "code",
   "execution_count": null,
   "metadata": {},
   "outputs": [],
   "source": [
    "class Node:\n",
    "    def __init__(self, data):\n",
    "        self.data = data  # 노드가 저장할 데이터\n",
    "        self.next = None  # 다음 노드를 가리키는 포인터\n",
    "\n",
    "class Stack:\n",
    "    def __init__(self):\n",
    "        self.top = None  # 스택의 꼭대기를 가리키는 포인터\n",
    "\n",
    "    def is_empty(self):\n",
    "        # 스택이 비어있는지 확인\n",
    "        return self.top is None\n",
    "\n",
    "    def push(self, data):\n",
    "        # 새로운 데이터를 스택에 추가\n",
    "        new_node = Node(data)  # 새로운 노드 생성\n",
    "        new_node.next = self.top  # 새로운 노드의 다음 노드를 현재 top으로 설정\n",
    "        self.top = new_node  # top을 새로운 노드로 업데이트\n",
    "\n",
    "    def pop(self):\n",
    "        # 스택에서 데이터를 제거하고 반환\n",
    "        if self.is_empty():\n",
    "            raise IndexError(\"pop from empty stack\")  # 스택이 비어있으면 에러 발생\n",
    "        popped_node = self.top  # 현재 top 노드를 저장\n",
    "        self.top = self.top.next  # top을 다음 노드로 업데이트\n",
    "        return popped_node.data  # 제거된 노드의 데이터를 반환\n",
    "\n",
    "    def peek(self):\n",
    "        # 스택의 꼭대기 데이터를 반환 (제거하지 않음)\n",
    "        if self.is_empty():\n",
    "            raise IndexError(\"peek from empty stack\")\n",
    "        return self.top.data  # 현재 top 노드의 데이터 반환\n",
    "\n",
    "# 사용 예시\n",
    "if __name__ == \"__main__\":\n",
    "    stack = Stack()\n",
    "\n",
    "    stack.push(10)\n",
    "    stack.push(20)\n",
    "    stack.push(30)\n",
    "\n",
    "    print(\"Top element is:\", stack.peek())  # 출력: Top element is: 30\n",
    "\n",
    "    print(\"Popped element is:\", stack.pop())  # 출력: Popped element is: 30\n",
    "    print(\"Top element is now:\", stack.peek())  # 출력: Top element is now: 20\n",
    "\n",
    "    stack.pop()  # 20 제거\n",
    "    stack.pop()  # 10 제거\n",
    "\n",
    "    print(\"Is stack empty?\", stack.is_empty())  # 출력: Is stack empty? True"
   ]
  },
  {
   "cell_type": "markdown",
   "metadata": {},
   "source": [
    "#### 4. 큐 (Queue)\n",
    "- FIFO(First In First Out)선입선출 자료구조, 먼저 입력된 데이터를 먼저 출력"
   ]
  },
  {
   "cell_type": "markdown",
   "metadata": {},
   "source": [
    " 3. **큐 (Queue)**\n",
    "    - 정의: FIFO(First In First Out) 방식으로 동작하는 선형 데이터 구조. 먼저 들어온 요소가 먼저 나갑니다.\n",
    "    - 사용 사례: 프린터 대기열, 프로세스 관리 등.\n",
    "    - 예시: 큐에 요소를 추가하고 제거하기.\n",
    "- 우선순위 큐\n",
    "\n",
    "- 큐 예시 (리스트를 큐처럼 사용)\n",
    "from collections import deque\n",
    "queue = deque()\n",
    "queue.append(1)  # 큐에 1 추가\n",
    "queue.append(2)  # 큐에 2 추가\n",
    "queue.append(3)  # 큐에 3 추가\n",
    "- 큐에서 요소를 하나씩 꺼내기 (디큐)\n",
    "print(\"Dequeued element:\", queue.popleft())"
   ]
  },
  {
   "cell_type": "markdown",
   "metadata": {},
   "source": [
    "##### 4.1 환형 큐"
   ]
  },
  {
   "cell_type": "markdown",
   "metadata": {},
   "source": [
    "##### 4.2 링크드 큐"
   ]
  },
  {
   "cell_type": "markdown",
   "metadata": {},
   "source": [
    "#### 5. 덱 (Deque, Double-Ended Queue)\n",
    "- front,rear 양쪽으로 삽입과 삭제가 가능한 데이터 구조"
   ]
  },
  {
   "cell_type": "markdown",
   "metadata": {},
   "source": [
    "## 비선형 구조 (Non-Linear Structures)"
   ]
  },
  {
   "cell_type": "markdown",
   "metadata": {},
   "source": [
    "### 1. 그래프 (Graph)"
   ]
  },
  {
   "cell_type": "markdown",
   "metadata": {},
   "source": [
    "- 정의: 노드와 그 노드들을 연결하는 간선으로 구성된 비선형 자료구조\n",
    "- 그래프 이론 용례: 경로 탐색(도시/도로/철도/항공망/통신망)/소셜 네트워크 분석(SNS친구관계 등)\n",
    "  - 점(정점)과 선(간선)으로 이루어진 거의 모든상황의 모델링에 적용\n",
    "- 자료구조: 그래프 > 트리 > 이진트리 > 완전이진트리 > 힙\n",
    "- 그래프의 구조화(인접행렬 vs 인접리스트)\n",
    "- 그래프 탐색(DFS vs BFS)\n",
    "  - 스택, 큐, 재귀 응용\n",
    "- 정점(노드), 간선, 가중치\n",
    "- 방향성 그래프(일방향), 무방향성 그래프(양방향)\n",
    "- 희소/밀집/완전 그래프"
   ]
  },
  {
   "cell_type": "markdown",
   "metadata": {},
   "source": [
    "<!-- - 예시: 간단한 그래프 생성 및 탐색. -->\n",
    "```\n",
    " 그래프 예시 (인접 리스트 사용)\n",
    "graph = {\n",
    "    \"A\": [\"B\", \"C\"],\n",
    "    \"B\": [\"A\", \"D\", \"E\"],\n",
    "    \"C\": [\"A\", \"F\"],\n",
    "    \"D\": [\"B\"],\n",
    "    \"E\": [\"B\", \"F\"],\n",
    "    \"F\": [\"C\", \"E\"]\n",
    "}\n",
    "\n",
    "print(\"Graph:\", graph)```"
   ]
  },
  {
   "cell_type": "markdown",
   "metadata": {},
   "source": [
    "#### 그래프 구조화"
   ]
  },
  {
   "cell_type": "markdown",
   "metadata": {},
   "source": [
    "1. 빈 판 생성(정점의 개수, V)\n",
    "2. 간선 정보 입력(간선의 개수, E)\n",
    "3. 가중치 표현\n",
    "- 인접행렬: V*V 행렬에서 갈 수 있으면 1 없으면 0으로 표현\n",
    "- 인접리스트: n번째 행 리스트에 n에서 갈 수 있는 정점들을 넣어서 표현\n",
    "- 일반적인 탐색의 경우 인접리스트가 더 빠르다\n",
    "\n",
    "- 그래프 탐색의 목적: 임의의 정점에서 \"갈 수 있는 모든 정점\"을 \"중복없이\"방문하는 것\n",
    "- 로직\n",
    "  1. 임의의 정점을 방문\n",
    "  2. 그 곳에서 갈 수 있는 정점을 탐색(by 인접행렬/리스트)\n",
    "  3. 방문한 적 없는 곳이면 (+예정지)(+기록지)\n",
    "  4. 예정지에서 임의의 다음 정점을 뽑아 방문\n",
    "  5. 1~4를 예정지가 빌 때까지 반복\n",
    "- DFS(깊이우선탐색)\n",
    "    - 경로의 특징\n",
    "    1. 가장 최근 탐색된 정점을 우선방문\n",
    "    2. 예정지로 \"스택\"(또는 시스템 스텍)사용\n",
    "    3. 방문 궤적이 \"경로\"를 이루며 탐색\n",
    "    - 이동경로 찍기(DFS, 스택)\n",
    "        1. path = [] stack = [1]\n",
    "        2. path = [1] stack = [2,3]\n",
    "        3. path = [1,3] stack = [2]\n",
    "        4. path = [1,3] stack = [2,7]\n",
    "        5. path = [1, 3, 7] stack = [2]\n",
    "        6. path = [1,3,7] stack = [2,6]\n",
    "        7. path = [1,3,7,6] stack = [2,4,5]\n",
    "        8. path = [1,3,7,6,5] stack = [2,4,2]\n",
    "        9. path = [1,3,7,6,5,2] stack = [2,4]\n",
    "        10. path = [1,3,7,6,5,2,4] stack = [2]\n",
    "    - 이동경로 찍기 (DFS, 재귀)\n",
    "        1. path=[1] 시스템스택=[]\n",
    "        2. path=[1,2] 시스템스택=[3]\n",
    "        3. path=[1,2,4] 시스템스택=[3,5]\n",
    "        4. path=[1,2,4,6] 시스템스택=[3,5]\n",
    "        5. path=[1,2,4,6,5] 시스템스택=[3,5,7]\n",
    "        6. path=[1,2,4,6,5,7] 시스템스택=[3,5]\n",
    "        7. path=[1,2,4,6,5,7] 시스템스택=[3]\n",
    "        8. path=[1,2,4,6,5,7,3] 시스템스택=[]\n",
    "- BFS(너비우선탐색)\n",
    "    - 최단거리\n",
    "    1. 시작 정점으로부터 동심원을 그리며 가까운 정점을 우선탐색\n",
    "    2. 가장 먼저 탐색된 정점을 우선방문\n",
    "    3. 예정지로 \"큐\"사용\n",
    "    - 이동경로 찍기(BFS)\n",
    "      1. path=[] queue=[1]\n",
    "      2. path=[1] queue=[]\n",
    "      3. path=[1] queue=[2,3]\n",
    "      4. path=[1,2] queue=[3]\n",
    "      5. path=[1,2] queue=[3,4,5]\n",
    "      6. path=[1,2,3] queue=[4,5]\n",
    "      7. path=[1,2,3] queue=[4,5,7]\n",
    "      8. path=[1,2,3,4] queue=[5,7]\n",
    "      9. path=[1,2,3,4] queue=[5,7,6]\n",
    "      10. path=[1,2,3,4,5] queue=[7,6]\n",
    "      11. path=[1,2,3,4,5,7] queue=[6]\n",
    "      12. path=[1,2,3,4,5,7,6] queue=[]\n",
    "- BFS & DFS\n",
    "  - 완전탐색문제\n",
    "  - 경로"
   ]
  },
  {
   "cell_type": "markdown",
   "metadata": {},
   "source": [
    "#### 인접행렬"
   ]
  },
  {
   "cell_type": "markdown",
   "metadata": {},
   "source": [
    "방향전환이 쉽다"
   ]
  },
  {
   "cell_type": "code",
   "execution_count": null,
   "metadata": {},
   "outputs": [],
   "source": [
    "# 인접 행렬\n",
    "V = int(input())\n",
    "E = int(input())\n",
    "\n",
    "# 1. 빈 판 만들기(V*V)\n",
    "adj_matrix = [[0]*V for _ in range(V)]\n",
    "\n",
    "# 2. 간선 정보 입력받기(E)\n",
    "for _ in range(E):\n",
    "    s, e = map(int, input().split())\n",
    "    adj_matrix[s][e] = 1\n",
    "\n",
    "print(adj_matrix)"
   ]
  },
  {
   "cell_type": "markdown",
   "metadata": {},
   "source": [
    "#### 인접 리스트"
   ]
  },
  {
   "cell_type": "markdown",
   "metadata": {},
   "source": [
    "탐색이 빠르다"
   ]
  },
  {
   "cell_type": "code",
   "execution_count": null,
   "metadata": {},
   "outputs": [],
   "source": [
    "# 인접 행렬로 구조화하기\n",
    "# 정점간 연결관계를 2차원 배열로 표시하는 방식\n",
    "# 1. 정점간 연결 확인이 효율적 2. 유방향그래프의 경오 손쉽게 모든 방향 전치 가능\n",
    "V = int(input())\n",
    "E = int(input())\n",
    "# 1. 빈판 만들기(V*V)\n",
    "adj_matrix = [[0]*V for _ in range(V)]\n",
    "# 2. 간선 정보 입력받기(E)\n",
    "for _ in range(E):\n",
    "    s, e, w = map(int, input().split()) # W 는 가중치가 필요할때\n",
    "    adj_matrix[s][e] = 1 # 가중치가 있다면 1대신 W\n"
   ]
  },
  {
   "cell_type": "code",
   "execution_count": null,
   "metadata": {},
   "outputs": [],
   "source": [
    "# 인접 리스트로 구조화하기\n",
    "# 완전탐색시 탐색속도가 빠르고 공간복잡도가 효율적 # 일반적으로는 인접리스트가 필요\n",
    "V = int(input())\n",
    "E = int(input())\n",
    "# 1. 빈 판 만들기\n",
    "adj_lst = [[] for _ in range(V)]\n",
    "# 2. 간선정보 입력받기\n",
    "for _ in range(E):\n",
    "    s, e = map(int, input().split())\n",
    "    adj_lst[s].append(e) # 양방향 그래프라면 반대로 e에서 s로 가는경우도 추가 # 가중치가 필요한경우 ((w, e))처럼 추가\n",
    "\n",
    "print(adj_lst)"
   ]
  },
  {
   "cell_type": "code",
   "execution_count": null,
   "metadata": {},
   "outputs": [],
   "source": [
    "# s3 2606번 바이러스\n",
    "from collections import deque\n",
    "V = int(input())\n",
    "E = int(input())\n",
    "# 인접행렬\n",
    "adj_matrix = [[0]*(V+1) for _ in range(V+1)]\n",
    "for _ in range(E):\n",
    "    s, e = map(int, input().split())\n",
    "    adj_matrix[s][e] = 1\n",
    "    adj_matrix[e][s] = 1\n",
    "# 인접리스트\n",
    "adj_matrix = [[] for _ in range(V+1)]\n",
    "for _ in range(E):\n",
    "    s, e = map(int, input().split())\n",
    "    adj_matrix[s].append(e)\n",
    "    adj_matrix[e].append(s)\n",
    "##############################################\n",
    "# 초기세팅(출발지, 기록지, 예정지)# 인접행렬\n",
    "queue = deque([1])\n",
    "visited = set([1]) # \n",
    "ans = 0\n",
    "\n",
    "# 방문 - 탐색의 반복\n",
    "while queue:\n",
    "    # 방문\n",
    "    cur = queue.popleft()\n",
    "    ans += 1\n",
    "\n",
    "    # 탐색(인접행렬)\n",
    "    for nxt in range(1, V+1):\n",
    "        if adj_matrix[cur][nxt] and nxt not in visited: # 집합을 사용한 방문지\n",
    "            visited.add(nxt)\n",
    "            queue.append(nxt)\n",
    "\n",
    "print(ans-1)\n",
    "########################################\n",
    "# 세팅(출발지, 기록지, 예정지) # 인접리스트\n",
    "stack = [1]\n",
    "visited = [0] * (V+1)\n",
    "visited[1] = 1\n",
    "ans = 0\n",
    "\n",
    "# 그래프 탐색(방문-탐색 반복)\n",
    "while stack:\n",
    "    # 방문\n",
    "    cur = stack.pop()\n",
    "    ans += 1\n",
    "\n",
    "    # 탐색(인접리스트)\n",
    "    for nxt in adj_lst[cur]:\n",
    "        if not visited[nxt]: # 비트마스킹을 사용한 방문지\n",
    "            visited[nxt] = 1\n",
    "            stack.append(nxt)\n",
    "\n",
    "print(ans-1)\n",
    "\n",
    "# DFS 재귀\n",
    "# 코드가 훨씬 깔끔하고 쉽다\n",
    "V = int(input())\n",
    "E = int(input())\n",
    "# 인접리스트\n",
    "adj_lst = [[] for _ in range(V+1)]\n",
    "for _ in range(E):\n",
    "    s, e = map(int, input().split())\n",
    "    adj_lst[s].append(e)\n",
    "    adj_lst[e].append(s)\n",
    "###############################\n",
    "# 초기 세팅(출발지, 기록지, 예정지)\n",
    "visited = [0]*(V+1)\n",
    "# visited[1] = 1 # 탐색할때 방문체크를 하려는 경우\n",
    "# 반복(방문과 탐색)\n",
    "def DFS(cur): # (depth, cur)인경우?\n",
    "    visited[cur] = 1\n",
    "    \n",
    "    for nxt in adj_lst[cur]:\n",
    "        if nxt in adj_lst[cur]:\n",
    "            if not visited[nxt]:\n",
    "                # visited[nxt] = 1 # 탐색할때 방문체크\n",
    "                DFS(nxt)"
   ]
  },
  {
   "cell_type": "markdown",
   "metadata": {},
   "source": [
    "DFS, 스택, 재귀\n"
   ]
  },
  {
   "cell_type": "code",
   "execution_count": null,
   "metadata": {},
   "outputs": [],
   "source": [
    "# s3 2606번 바이러스\n",
    "V,E = int(input()), int(input())\n",
    "adj_matrix = [[0]*(V+1) for _ in range(V+1)]\n",
    "# 인접행렬\n",
    "for _ in range(E):\n",
    "    s, e = map(int, input().split())\n",
    "    adj_matrix[s][e] = 1\n",
    "    adj_matrix[e][s] = 1\n",
    "# 인접리스트\n",
    "adj_matrix = [[] for _ in range(V+1)]\n",
    "for _ in range(E):\n",
    "    s, e = map(int, input().split())\n",
    "    adj_matrix[s].append(e)\n",
    "    adj_matrix[e].append(s)\n",
    "# BFS\n",
    "from collections import deque\n",
    "# 초기세팅: 출발지 (1번 노드), 기록지 (visited 집합), 예정지 (queue)\n",
    "queue = deque([1])         # 시작 노드를 큐에 삽입\n",
    "visited = set([1])         # 방문 기록 (1번 노드부터 시작)\n",
    "# BFS 알고리즘 시작\n",
    "# 방문 - 탐색의 반복\n",
    "while queue:\n",
    "    # 방문\n",
    "    cur = queue.popleft()  # 큐에서 첫 번째 요소를 꺼내 현재 노드로 설정\n",
    "                            # (left 지우고 queue.pop()으로 바꾸면 DFS)\n",
    "    # 인접 행렬을 사용한 탐색\n",
    "    for nxt in range(1, V + 1):     # 모든 노드를 순회하며 인접 여부 확인\n",
    "        if adj_matrix[cur][nxt] and nxt not in visited:  # 인접하고 방문하지 않았다면\n",
    "            visited.add(nxt)         # 방문 처리\n",
    "            queue.append(nxt)        # 큐에 추가하여 이후에 탐색하도록 설정\n",
    "# DFS\n",
    "# 초기세팅: 출발지 (1번 노드), 기록지 (visited 리스트), 예정지 (stack)\n",
    "stack = [1]                    # 시작 지점은 1번 노드\n",
    "visited = [0] * (V + 1)        # 방문 기록을 위한 리스트 (노드가 1부터 시작한다고 가정)\n",
    "visited[1] = 1                 # 시작 노드 방문 처리\n",
    "# ans = 0                      # 방문한 노드의 개수를 기록하고 싶을 경우 (주석 처리)\n",
    "\n",
    "# DFS 알고리즘 시작\n",
    "while stack:\n",
    "    # 현재 노드를 stack에서 꺼내며 방문\n",
    "    cur = stack.pop()          # 현재 위치 노드로 이동\n",
    "    # ans += 1                 # 방문한 노드 개수를 셀 경우에 사용 (주석 처리)\n",
    "\n",
    "    # 현재 노드와 인접한 노드들 탐색\n",
    "    for nxt in adj_lst[cur]:    # 인접 리스트를 통해 연결된 노드들 순회\n",
    "        if not visited[nxt]:    # 아직 방문하지 않았다면\n",
    "            visited[nxt] = 1    # 방문 표시\n",
    "            stack.append(nxt)   # stack에 추가하여 이후 탐색하도록 설정\n",
    "    # 탐색 (인접리스트)  완전그래프가 아니라면 일반적으로 더 빠르다\n"
   ]
  },
  {
   "cell_type": "code",
   "execution_count": null,
   "metadata": {},
   "outputs": [],
   "source": [
    "# 그래프 탐색\n",
    "\"\"\"(중복없이) (갈 수 있는 모든 정점)을 방문하는 것\n",
    "임의의 정점을 방문 ->\n",
    "방문할 수 있는 정점이 기록된곳 -> 탐색 -> 방문한 정점이 기록된 곳\n",
    "\n",
    "1. 임의의 정점을 방문\n",
    "2. 그 곳에서 갈 수 있는 정점을 탐색(by 인접행렬/리스트)\n",
    "3. 방문한 적 없는 곳이면 예정지에 넣고 기록지에 기록\n",
    "4. 예정지에서 임의의 정점을 뽑아서 방문\n",
    "5. 1~4를 예정지가 빌 때까지 반복\n",
    "\"\"\"\n",
    "\"\"\"\n",
    "그래프 탑색\n",
    "DFS(깊이 우선 탐색)\n",
    "1. 가장 최근에 탐색된 정점을 우선적으로 방문하는 탐색 방법\n",
    "2. 예정지로 \"스택\"(또는 시스템 스텍)을 사용\n",
    "3. 방문 궤적이 \"경로\"를 이루며 탐색\n",
    "path = [1] 궤적\n",
    "stack = [2,3] \n",
    "\n",
    "BFS(넓이 우선 탐색)\n",
    "1. 가장 먼저 탐색된 정점을 우선적으로 방문하는 탐색 방법 # 가중치가 없는 그래프에서 최댄거리 탐색에 쓰임\n",
    "2. 기록지로 \"큐\"를 사용\n",
    "3. 시작 정점으로부터 가까운 정점부터 동심원을 그리며 탐색\n",
    "\n",
    "1. 완전탐색 - 무방\n",
    "2. 경로의 특징 - DFS\n",
    "3. 최단거리, 최소일수, 최소, 최적 - BFS\n",
    "\n",
    "가중치가 없을땐 다익스트라알고리즘등을 사용?\n",
    "\n",
    "\n",
    "방문여부탐색을 수없이 하기에 기록지에 배열대신 집합자료형을 사용하거나 비트마스킹기법을 사용\n",
    "\"\"\"\n"
   ]
  },
  {
   "cell_type": "markdown",
   "metadata": {},
   "source": [
    "#### 1.1 방향성 그래프 (일반향)"
   ]
  },
  {
   "cell_type": "markdown",
   "metadata": {},
   "source": [
    "#### 1.2 무방향성 그래프 (양방향)"
   ]
  },
  {
   "cell_type": "markdown",
   "metadata": {},
   "source": [
    "- 완전탐색"
   ]
  },
  {
   "cell_type": "markdown",
   "metadata": {},
   "source": [
    "### 2. 희소 그래프\n",
    "### 3. 밀집 그래프\n",
    "### 4. 완전 그래프"
   ]
  },
  {
   "cell_type": "markdown",
   "metadata": {},
   "source": [
    "### ? 이차원행렬 형태 그래프"
   ]
  },
  {
   "cell_type": "code",
   "execution_count": null,
   "metadata": {},
   "outputs": [],
   "source": [
    "                 일      이\n",
    "1. 정점     \n",
    "2. 구조화   \n",
    "3. 탐색     "
   ]
  },
  {
   "cell_type": "markdown",
   "metadata": {},
   "source": [
    "### 2. 트리 (Tree)"
   ]
  },
  {
   "cell_type": "markdown",
   "metadata": {},
   "source": [
    "- 정의: 계층적 데이터 구조. 루트 노드에서 시작하여 자식 노드로 확장됩니다. 이진 트리(binary tree)는 각 노드가 최대 두 개의 자식 노드를 가질 수 있는 트리입니다.\n",
    "- 사용 사례: 계층적 데이터 저장, 탐색 알고리즘 구현.\n",
    "- 노드와 브랜치를 사용, 사이클이 없도록 구성, 계층적인 구조 표현에 사용\n",
    "- 예시: 간단한 이진 트리 생성 및 탐색.\n",
    "- \n",
    "- 부모 노드 아래에 여러 자식 노드가 연결되어 있고, 자식 노드가 다시 부모 노드가 되어 각각의 자식 노드가 연결되어 있는 재귀적, 계층적 형태의 자료구조\n",
    "\n",
    "- 루트: 부모 노드가 없는 최상위 노드. 모든 트리의 루트는 하나다.  \n",
    "- 부모(parent) 노드: 자식(child) 노드를 가진 노드  \n",
    "- 자식(child) 노드: 부모 노드의 하위 노드  \n",
    "- 형제(siblings) 노드: 부모가 같은 노드  \n",
    "- 리프(leaf) 노드: 자식이 없는 노드  \n",
    "- 서브 트리(sub tree): 특정 노드를 간선을 끊고 루트로 생각할 때 생기는 트리  \n",
    "\n",
    "기타 용어  \n",
    "\n",
    "- 크기(size): 자신을 포함한 모든 자식 노드의 개수  \n",
    "- 레벨(level): 루트 노드부터 특정 노드까지 연결된 간선의 수  \n",
    "- 깊이(depth): 루트 노드부터 특정 노드까지의 거리, 수치로만 보면 레벨과 같은 것 같다.  \n",
    "- 높이(height): 노드에서 가장 깊은 노드까지의 길이  \n",
    "- 경로(path): 한 노드에서 다른 노드로 갈 때 거쳐 가는 노드들의 순서  \n",
    "- 차수(degree): 자식의 개수  \n",
    "\n",
    "레벨, 깊이, 높이는 다 비슷해 보인다. 깊이는 루트부터 아래로 내려간 길이이고, 높이는 서브 트리에서 가장 깊은 노드부터 위로 올라간 길이라고 생각하면 될 것 같다.\n",
    "\n",
    "- 순회\n",
    "  - 트리에서 각 노드를 체계적으로 방문하는 과정\n",
    "  - 부모 노드와 왼쪽/오른쪽 노드를 어떤 순서로 방문하냐에 따라 순회 방법을 나눈다. 전위/중위/후위 순회가 있다.\n",
    "  - 각 노드는 서브 트리일 수 있으므로, 순회방법은 재귀적. 세 가지 순회 방법을 재귀적으로 구현하거나 스택을 이용하여 구현가능.\n",
    "  - 그리고 노드를 레벨 순서로 방문하는 레벨 순서 순회가 있으며, 큐를 이용해서 구현가능"
   ]
  },
  {
   "cell_type": "markdown",
   "metadata": {},
   "source": [
    "#### 2.1 일반트리"
   ]
  },
  {
   "cell_type": "markdown",
   "metadata": {},
   "source": [
    "#### 2.2 이진트리"
   ]
  },
  {
   "cell_type": "markdown",
   "metadata": {},
   "source": [
    "- (이진 트리)  \n",
    "  - 모든 노드들이 2개의 서브트리를 갖는 특별한 형태의 트리이다. 각 노드가 자식노드를 최대한 2개까지만 가질 수 있다.  \n",
    "- 이진탐색트리\n",
    "  - 모든 부모 노 드들의 left child는 부모 노드의 데이터보다 값이 작아야 하고, right child는 부모 노드의 값보다 커야한다. 여기서 중위순회(Inorder Travel)을 적용하면 오름차순 정렬이 된다."
   ]
  },
  {
   "cell_type": "markdown",
   "metadata": {},
   "source": [
    "##### 완전 이진 트리"
   ]
  },
  {
   "cell_type": "markdown",
   "metadata": {},
   "source": [
    "#### 6. 힙"
   ]
  },
  {
   "cell_type": "code",
   "execution_count": null,
   "metadata": {},
   "outputs": [],
   "source": [
    "class heapq:\n",
    "    def __init__(self, data=None, key=lambda x:x, reverse=False, max_heap=False, min_heap=False):\n",
    "        self.heap = []"
   ]
  },
  {
   "cell_type": "code",
   "execution_count": 8,
   "metadata": {},
   "outputs": [
    {
     "name": "stdout",
     "output_type": "stream",
     "text": [
      "[5, 2, 3, 1, 1, 3, 2, 1]\n",
      "[1, 1, 2, 1, 2, 3, 3, 5]\n"
     ]
    }
   ],
   "source": [
    "import heapq\n",
    "\n",
    "list = [1,2,3,5,1,3,2,1]\n",
    "# 최대 힙\n",
    "heapq._heapify_max(list)\n",
    "print(list)  # 출력: [5, 3, 3, 1, 1, 2, 2, 1]\n",
    "# 최소 힙\n",
    "heapq.heapify(list)\n",
    "print(list)  # 출력: [1, 1, 2, 1, 3, 2, 3, 5]\n",
    "heapq."
   ]
  },
  {
   "cell_type": "markdown",
   "metadata": {},
   "source": [
    "##### 6.1 배열 기반 힙"
   ]
  },
  {
   "cell_type": "markdown",
   "metadata": {},
   "source": [
    "##### 6.2 연결리스트 기반 힙"
   ]
  },
  {
   "cell_type": "code",
   "execution_count": null,
   "metadata": {},
   "outputs": [],
   "source": [
    "class TreeNode:\n",
    "    def __init__(self, data):\n",
    "        self.data = data\n",
    "        self.left = None\n",
    "        self.right = None\n",
    "\n",
    "    def insert_left(self, child_data):\n",
    "        self.left = TreeNode(child_data)\n",
    "        return self.left\n",
    "\n",
    "    def insert_right(self, child_data):\n",
    "        self.right = TreeNode(child_data)\n",
    "        return self.right\n",
    "\n",
    "    def traverse_in_order(self):\n",
    "        if self.left:\n",
    "            self.left.traverse_in_order()\n",
    "        print(self.data, end=\" \")\n",
    "        if self.right:\n",
    "            self.right.traverse_in_order()\n",
    "\n",
    "# - 이진 트리 생성\n",
    "root = TreeNode(10)\n",
    "left = root.insert_left(5)\n",
    "right = root.insert_right(15)\n",
    "left.insert_left(3)\n",
    "left.insert_right(7)\n",
    "right.insert_left(12)\n",
    "right.insert_right(18)\n",
    "\n",
    "print(\"In-order Traversal of Tree:\")\n",
    "root.traverse_in_order()"
   ]
  },
  {
   "cell_type": "markdown",
   "metadata": {},
   "source": [
    "##### 1.2.1) 완전이진트리 >> 힙(Heap)"
   ]
  },
  {
   "cell_type": "markdown",
   "metadata": {},
   "source": [
    "##### 1.2.2) 이진탐색트리(BST)"
   ]
  },
  {
   "cell_type": "markdown",
   "metadata": {},
   "source": [
    "##### AVL트리"
   ]
  },
  {
   "cell_type": "markdown",
   "metadata": {},
   "source": [
    "## 기타 데이터 구조 (Other Data Structures)"
   ]
  },
  {
   "cell_type": "markdown",
   "metadata": {},
   "source": [
    "1. 해시 셋 (Hash Set)\n",
    "- 파이썬에서 set으로 구현되는 유일한 요소(Unique elements)들의 집합 \n",
    "2. 해시 맵 (Hash Map)\n",
    "- 파이썬에서 dict으로 구현되는 키-값 쌍 저장\n",
    "3. 힙 (우선순위 큐) (Heap, Priority Queue)\n",
    "- 완전 이진 트리 (Complete binary tree)사용하여 우선순위 큐 유지\n",
    "- 루트 노드는 최대 또는 최소 요소"
   ]
  },
  {
   "cell_type": "markdown",
   "metadata": {},
   "source": [
    "## 파일구조"
   ]
  },
  {
   "cell_type": "markdown",
   "metadata": {},
   "source": [
    "### 1. 순차파일"
   ]
  },
  {
   "cell_type": "markdown",
   "metadata": {},
   "source": [
    "### 2. 색인파일"
   ]
  },
  {
   "cell_type": "markdown",
   "metadata": {},
   "source": [
    "### 3. 직접파일"
   ]
  },
  {
   "cell_type": "markdown",
   "metadata": {},
   "source": [
    "# 객체 지향 프로그래밍(Object-Oriented Programming, OOP)\n",
    "컴퓨터 프로그램을 어떤 데이터를 입력받아 순서대로 처리하고 결과를 도출하는 명령어들의 목록으로 보는 시각에서 벗어나 여러 독립적인 부품들의 조합, 즉 객체들의 유기적인 협력과 결합으로 파악하고자 하는 컴퓨터 프로그래밍의 패러다임\n",
    "- 장점\n",
    "  - 프로그램을 보다 유연하고 변경이 용이하게 만들 수 있다\n",
    "  - 객체 지향적 원리를 잘 적용해 둔 프로그램은 각각의 부품들이 독립적인 역할을 가져 코드변경을 최소화하고 유지보수가 편리\n",
    "  - 코드의 재사용을 통해 반복적인 코드를 최소화하고, 코드를 최대한 간결하게 표현\n",
    "- 객체(object)\n",
    "  - 객체는 객체 지향 프로그래밍의 가장 기본적인 단위이자 시작점, 모든 실제하는 부분이 객체\n",
    "- 객체 지향 프로그래밍의 4가지 특징\n",
    "  1. 추상화(Abstration)\n",
    "     - 객체의 공통적인 속성과 기능을 추출하여 정의하는 것\n",
    "     - 자료,모듈,시스템으로 부터 핵심적인 개념, 기능을 간추려 정의하는 것\n",
    "  2. 상속(Inheritance)\n",
    "     - 기존의 클래스를 재활용하여 새로운 클래스를 작성하는 자바의 문법 요소\n",
    "     - 추상화의 연장선, 상속은 클래스 간 공유될 수 있는 속성,기능들을 상위 클래스로 추상화 시켜 해당 상위 클래스로부터 확장된 여러 개의 하위 클래스들이 모두 상위 클래스의 속성과 기능들을 간편하게 사용\n",
    "  3. 다형성 - OOP의 꽃\n",
    "     - 어떤 객체의 속성이나 기능이 상황에 따라 여러 가지 형태를 가질 수 있는 성질\n",
    "     - 객체 지향 프로그래밍에서 다형성이란 한 타입의 참조변수를 통해 여러 타입 객체를 참조할 수 있도록 만든 것. 구체적으로, 상위 클래스 타입의 참조변수로 하위 클래스의 객체를 참조할 수 있도록 하는 것\n",
    "     - 대표적인 예로 우리가 앞서 본 메서드 오버라이딩과 메서드 오버로딩(method overloading)\n",
    "     -  같은 이름의 메서드가 상황에 따라 다른 역할을 수행하는 것입니다. 또한, 하나의 클래스 내에서 같은 이름의 메서드를 여러 개 중복하여 정의하는 것을 의미하는 메서드 오버로딩도 이와 같은 맥락\n",
    "  4. 캡슐화(Encapsulation)\n",
    "     - d\n"
   ]
  },
  {
   "cell_type": "markdown",
   "metadata": {},
   "source": [
    "명령형 코드(imperative code)(선언형의 반대)\n",
    "- pc가 수행할 명령들을 순서대로 적은 것\n",
    "선언형 코드(declarative code)(명령형의 반대)\n",
    "- 목표를 명시하고 알고리즘을 명시하지 않는 것\n",
    "(duck typing)\n",
    "- 객체의 변수 및 메소드의 집합이 객체의 타입을 결정하는 것\n",
    "시간복잡도(time complexity)\n",
    "- 문제 해결에 걸리는 시간과 입력의 함수관계"
   ]
  },
  {
   "cell_type": "markdown",
   "metadata": {},
   "source": [
    "https://katfun.tistory.com/\n",
    "익스트라, a*, 알고리즘, 레드블랙 트리 ?"
   ]
  },
  {
   "cell_type": "markdown",
   "metadata": {},
   "source": []
  }
 ],
 "metadata": {
  "kernelspec": {
   "display_name": "Python 3",
   "language": "python",
   "name": "python3"
  },
  "language_info": {
   "codemirror_mode": {
    "name": "ipython",
    "version": 3
   },
   "file_extension": ".py",
   "mimetype": "text/x-python",
   "name": "python",
   "nbconvert_exporter": "python",
   "pygments_lexer": "ipython3",
   "version": "3.11.8"
  }
 },
 "nbformat": 4,
 "nbformat_minor": 2
}
