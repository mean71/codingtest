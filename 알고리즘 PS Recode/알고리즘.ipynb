{
 "cells": [
  {
   "cell_type": "markdown",
   "metadata": {},
   "source": [
    "# 알고리즘\n",
    "---"
   ]
  },
  {
   "cell_type": "code",
   "execution_count": 5,
   "metadata": {},
   "outputs": [
    {
     "data": {
      "text/plain": [
       "3"
      ]
     },
     "execution_count": 5,
     "metadata": {},
     "output_type": "execute_result"
    }
   ],
   "source": [
    "# 파이썬의 round 함수는 우리가 아는 반올림과 개념이 다르기에 직접 구현해야한다\n",
    "round(2.5) # 가까운 짝수가 나온다\n",
    "round(int(2.5+0.5))"
   ]
  },
  {
   "cell_type": "code",
   "execution_count": null,
   "metadata": {},
   "outputs": [],
   "source": [
    "# 범위를 초과하는 인덱스 호출로 배열 반복호출\n",
    "# 0~9의 정수 리스트 생성\n",
    "lst = [i for i in range(10)]\n",
    "for i in range(20): # 0부터 19 까지의 lst인덱스 호출\n",
    "    print(lst[i % len(lst)]) # 인덱스 에러는 방지하지만 다시 처음부터 순회"
   ]
  },
  {
   "cell_type": "code",
   "execution_count": null,
   "metadata": {},
   "outputs": [],
   "source": [
    "# 유클리드 호제법 반복문\n",
    "def Euclidean(a, b):\n",
    "    while b != 0:\n",
    "        [a, b] = [b, a%b]\n",
    "    return a"
   ]
  },
  {
   "cell_type": "code",
   "execution_count": null,
   "metadata": {},
   "outputs": [],
   "source": [
    "# 유클리드 호제법 재귀문\n",
    "def Euclidean(a, b):\n",
    "    if b == 0:\n",
    "        return a\n",
    "    return Euclidean(b, a % b)"
   ]
  },
  {
   "cell_type": "code",
   "execution_count": 9,
   "metadata": {},
   "outputs": [
    {
     "name": "stdout",
     "output_type": "stream",
     "text": [
      "120\n"
     ]
    }
   ],
   "source": [
    "# 기초적인 재귀함수 팩토리얼 계산\n",
    "def factorial(n):\n",
    "    if n <= 1:\n",
    "        return 1\n",
    "    else:\n",
    "        return n * factorial(n - 1)\n",
    "print(factorial(5))"
   ]
  },
  {
   "cell_type": "code",
   "execution_count": 39,
   "metadata": {},
   "outputs": [
    {
     "name": "stdout",
     "output_type": "stream",
     "text": [
      "2\n",
      "3\n",
      "5\n",
      "7\n",
      "11\n",
      "13\n"
     ]
    }
   ],
   "source": [
    "# 에라토스테네스의 체\n",
    "import collections as cl\n",
    "\n",
    "M,N= map(int, input().split())\n",
    "if M<=2<=N:print(2)\n",
    "\n",
    "decimal = cl.defaultdict(bool)\n",
    "decimal[0]=decimal[1]=True\n",
    "\n",
    "for i in range(3, N+1, 2):\n",
    "    if not decimal[i]:\n",
    "        if M<= i <= N:\n",
    "            print(i)\n",
    "        for j in range(i+i*2, N+1, i*2):\n",
    "                decimal[j]=True"
   ]
  },
  {
   "cell_type": "markdown",
   "metadata": {},
   "source": [
    "# 정렬 알고리즘"
   ]
  },
  {
   "cell_type": "code",
   "execution_count": null,
   "metadata": {},
   "outputs": [],
   "source": [
    "def get_insert_idx(res, elem, cmp = lambda x, y: x if x > y else y, ):\n",
    "\n",
    "    for i, e in enumerate(res):\n",
    "        case = cmp(elem, e)\n",
    "        if elem == case: # elem > e:\n",
    "            return i \n",
    "    \n",
    "    return len(res)\n",
    "# res 배열과 요소를 인수로 받아서 인덱스와 요소를 차례대로 추출해서 받은 lst의 순환중인 elem과 비교 elem이 더크면 res 인덱스 반환\n",
    "\n",
    "def sort3_insert(lst, cmp = lambda x, y: x if x > y else y):\n",
    "    res = []\n",
    "\n",
    "    for elem in lst:\n",
    "        new_idx = get_insert_idx(res, elem, cmp = cmp)\n",
    "        res.insert(new_idx, elem)\n",
    "    \n",
    "    return res \n",
    "# elem보다 작은 res요소의 첫new_idx를 반환하고, res.insert(new_idx, elem)하여 큰것부터 정렬"
   ]
  },
  {
   "cell_type": "code",
   "execution_count": null,
   "metadata": {},
   "outputs": [],
   "source": [
    "# 삽입정렬 알고리즘\n",
    "def insertion_sort(lst, cmp = lambda x, y: x if x > y else y):\n",
    "  while True:\n",
    "    if a!=1:\n",
    "       break\n",
    "  \n",
    "  return lst"
   ]
  },
  {
   "cell_type": "code",
   "execution_count": null,
   "metadata": {},
   "outputs": [],
   "source": [
    "def merge_sort(lst, cmp = lambda x, y: x if x > y else y):\n",
    "    mid = len(lst)//2\n",
    "    L_lst, R_lst = lst[:mid],lst[mid:]\n",
    "    lst=[]\n",
    "    merge_sort(L_lst)\n",
    "    merge_sort(R_lst)\n",
    "merge_sort([1,2,3,4,5,6,7,8,9])"
   ]
  },
  {
   "cell_type": "code",
   "execution_count": 11,
   "metadata": {},
   "outputs": [
    {
     "name": "stdout",
     "output_type": "stream",
     "text": [
      "[1, 2, 3, 4, 4, 5, 6]\n"
     ]
    }
   ],
   "source": [
    "# 병합정렬 알고리즘\n",
    "def merge_sort(lst, cmp = lambda x, y: x if x > y else y):\n",
    "    if len(lst) <= 1:return lst\n",
    "    \n",
    "    merge_sort_lst = []\n",
    "    mid = len(lst)//2\n",
    "    L_lst = merge_sort(lst[:mid])\n",
    "    R_lst = merge_sort(lst[mid:])\n",
    "\n",
    "    while len(L_lst) > 0 and len(R_lst) > 0:\n",
    "        if cmp(L_lst[0], R_lst[0]) == L_lst[0]:\n",
    "            merge_sort_lst.append(R_lst.pop(0))\n",
    "        else:\n",
    "            merge_sort_lst.append(L_lst.pop(0))\n",
    "    merge_sort_lst.extend(L_lst)\n",
    "    merge_sort_lst.extend(R_lst)\n",
    "    return merge_sort_lst\n",
    "\n",
    "print(merge_sort([1,2,3,4,4,5,6]))\n",
    "    \n",
    "    # 부르면 둘로 쪼개는 함수를 만들고 그 함수내에서 다시 자기자신을 두번불러 쪼갠걸 또 쪼개고 if len() > 1: 이라는 조건으로\n",
    "    # 쪼개놓은걸 호출해서 합친다.\n",
    "\n",
    "# 1. 배열을 두덩이로 쪼갠다 len(lst)//2 그리고...? 쪼갠배열 if len() > 1:로 계속쪼갠다 역순으로 다시 합친다 오름차순은min/ 내림차순은max로?\n",
    "# 2. 1,2번째[0]들을 min으로 차례대로 lst.append 합친다.  a 3,4 번째를 반복한다 5,6 번째를 반복한다....\n",
    "# 3. 끝까지 반복했는지 전부 합쳐졌는지를 어떻게 검사하지\n",
    "# 4. 전부합쳐지면 다시 2부터 반복한다.\n",
    "# 5. 더이상 합칠게없으면 반복문을 끝낸다."
   ]
  },
  {
   "cell_type": "code",
   "execution_count": null,
   "metadata": {},
   "outputs": [],
   "source": [
    "# 퀵정렬 알고리즘\n",
    "def quick_sort(lst, cmp = lambda x, y: x if x > y else y):\n",
    "    while True:\n",
    "        N = ( lst[0] + lst[len(lst)//2] + lst[len(lst)] )/3\n",
    "\n",
    "        break\n",
    "    return lst\n",
    "# while 정렬끝날때까지 무한반복:\n",
    "#   편하게 중앙인덱스 값을 피벗(기준)으로 잡고 반복실행 왔다리 갔다리하면서 \n",
    "#   중위값보다 작은값을 발견하면 왼쪽으로 순회 큰값을 발견하면 그 인덱스에 내려놓고 오른쪽으로 이동\n",
    "#   리스트를 2개로 나누어서 다시 시작과 끝 중간을 인덱스의 N = ( lst[0] + lst[len(lst)//2] + lst[len(lst)] )/3 를 재귀적으로 호출해서 반복\n",
    "#   모든 리스트가 다 나누어지면 정렬끝 break?\n",
    "\n",
    "for i in range(len):\n",
    "    if N > lst[i]:"
   ]
  },
  {
   "cell_type": "markdown",
   "metadata": {},
   "source": [
    "## 하이브리드 정렬"
   ]
  },
  {
   "cell_type": "code",
   "execution_count": null,
   "metadata": {},
   "outputs": [],
   "source": [
    "# 팀 병합정렬 + 삽입정렬\n",
    "def tim_sort(lst, cmp = lambda x, y: x if x > y else y):\n",
    "\n",
    "    return lst"
   ]
  },
  {
   "cell_type": "code",
   "execution_count": null,
   "metadata": {},
   "outputs": [],
   "source": [
    "#linked list\n",
    "class Node:\n",
    "  def __init__(self,data):\n",
    "    self.data = data\n",
    "    self.next = None\n",
    "\n",
    "class LinkedList:\n",
    "  def __init__(self):\n",
    "    \n",
    "\n",
    "    "
   ]
  },
  {
   "cell_type": "code",
   "execution_count": 6,
   "metadata": {},
   "outputs": [
    {
     "data": {
      "text/plain": [
       "False"
      ]
     },
     "execution_count": 6,
     "metadata": {},
     "output_type": "execute_result"
    }
   ],
   "source": [
    "a=[1,2,3,4,5]\n",
    "isinstance(2,list)\n"
   ]
  }
 ],
 "metadata": {
  "kernelspec": {
   "display_name": "Python 3",
   "language": "python",
   "name": "python3"
  },
  "language_info": {
   "codemirror_mode": {
    "name": "ipython",
    "version": 3
   },
   "file_extension": ".py",
   "mimetype": "text/x-python",
   "name": "python",
   "nbconvert_exporter": "python",
   "pygments_lexer": "ipython3",
   "version": "3.11.8"
  }
 },
 "nbformat": 4,
 "nbformat_minor": 2
}
